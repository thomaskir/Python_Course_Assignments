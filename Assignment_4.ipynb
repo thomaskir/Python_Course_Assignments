{
 "cells": [
  {
   "cell_type": "markdown",
   "metadata": {},
   "source": [
    "<h2>Assignment 4</h2>"
   ]
  },
  {
   "cell_type": "markdown",
   "metadata": {},
   "source": [
    " "
   ]
  },
  {
   "cell_type": "markdown",
   "metadata": {},
   "source": [
    "<p>Assignment 4 deals with a dataset compromised of 56745 tweets. These tweets are said to be hateful or offensive and come from various sources. Therefore, the tweets contain different topics. Because of this, the analysis is guided by three main steps. In a first step, an exploratory data analysis (EDA), where the dataset is inspected, gets conducted. In a second step, a sentiment analysis will be performed. In a third step, a topic model will be applied to the textual data. The dataset is derived from this source: https://www.kaggle.com/ashwiniyer176/toxic-tweets-dataset<br>\n",
    "The research interest is guided by the question how the sample is structured, how negative and opinionated it really is and if it is possible to extract meaningful topics from such a diverse sample.</p>"
   ]
  },
  {
   "cell_type": "markdown",
   "metadata": {},
   "source": [
    " "
   ]
  },
  {
   "cell_type": "code",
   "execution_count": 1,
   "metadata": {},
   "outputs": [
    {
     "name": "stdout",
     "output_type": "stream",
     "text": [
      "Requirement already satisfied: gensim in c:\\users\\kirch\\anaconda3\\lib\\site-packages (4.0.1)\n",
      "Requirement already satisfied: textract in c:\\users\\kirch\\anaconda3\\lib\\site-packages (1.6.3)\n",
      "Requirement already satisfied: pyLDAvis in c:\\users\\kirch\\anaconda3\\lib\\site-packages (3.3.1)\n",
      "Requirement already satisfied: spaCy in c:\\users\\kirch\\anaconda3\\lib\\site-packages (3.0.6)\n",
      "Requirement already satisfied: textstat in c:\\users\\kirch\\anaconda3\\lib\\site-packages (0.7.1)\n",
      "Requirement already satisfied: textblob in c:\\users\\kirch\\anaconda3\\lib\\site-packages (0.15.3)\n",
      "Requirement already satisfied: scipy>=0.18.1 in c:\\users\\kirch\\anaconda3\\lib\\site-packages (from gensim) (1.5.2)\n",
      "Requirement already satisfied: numpy>=1.11.3 in c:\\users\\kirch\\anaconda3\\lib\\site-packages (from gensim) (1.20.3)\n",
      "Requirement already satisfied: Cython==0.29.21 in c:\\users\\kirch\\anaconda3\\lib\\site-packages (from gensim) (0.29.21)\n",
      "Requirement already satisfied: smart-open>=1.8.1 in c:\\users\\kirch\\anaconda3\\lib\\site-packages (from gensim) (3.0.0)\n",
      "Requirement already satisfied: requests in c:\\users\\kirch\\anaconda3\\lib\\site-packages (from smart-open>=1.8.1->gensim) (2.24.0)\n",
      "Requirement already satisfied: pdfminer.six==20181108 in c:\\users\\kirch\\anaconda3\\lib\\site-packages (from textract) (20181108)\n",
      "Requirement already satisfied: extract-msg==0.23.1 in c:\\users\\kirch\\anaconda3\\lib\\site-packages (from textract) (0.23.1)\n",
      "Requirement already satisfied: docx2txt==0.8 in c:\\users\\kirch\\anaconda3\\lib\\site-packages (from textract) (0.8)\n",
      "Requirement already satisfied: python-pptx==0.6.18 in c:\\users\\kirch\\anaconda3\\lib\\site-packages (from textract) (0.6.18)\n",
      "Requirement already satisfied: argcomplete==1.10.0 in c:\\users\\kirch\\anaconda3\\lib\\site-packages (from textract) (1.10.0)\n",
      "Requirement already satisfied: EbookLib==0.17.1 in c:\\users\\kirch\\anaconda3\\lib\\site-packages (from textract) (0.17.1)\n",
      "Requirement already satisfied: xlrd==1.2.0 in c:\\users\\kirch\\anaconda3\\lib\\site-packages (from textract) (1.2.0)\n",
      "Requirement already satisfied: SpeechRecognition==3.8.1 in c:\\users\\kirch\\anaconda3\\lib\\site-packages (from textract) (3.8.1)\n",
      "Requirement already satisfied: beautifulsoup4==4.8.0 in c:\\users\\kirch\\anaconda3\\lib\\site-packages (from textract) (4.8.0)\n",
      "Requirement already satisfied: chardet==3.0.4 in c:\\users\\kirch\\anaconda3\\lib\\site-packages (from textract) (3.0.4)\n",
      "Requirement already satisfied: six==1.12.0 in c:\\users\\kirch\\anaconda3\\lib\\site-packages (from textract) (1.12.0)\n",
      "Requirement already satisfied: soupsieve>=1.2 in c:\\users\\kirch\\anaconda3\\lib\\site-packages (from beautifulsoup4==4.8.0->textract) (2.0.1)\n",
      "Requirement already satisfied: lxml in c:\\users\\kirch\\anaconda3\\lib\\site-packages (from EbookLib==0.17.1->textract) (4.6.1)\n",
      "Requirement already satisfied: tzlocal==1.5.1 in c:\\users\\kirch\\anaconda3\\lib\\site-packages (from extract-msg==0.23.1->textract) (1.5.1)\n",
      "Requirement already satisfied: olefile==0.46 in c:\\users\\kirch\\anaconda3\\lib\\site-packages (from extract-msg==0.23.1->textract) (0.46)\n",
      "Requirement already satisfied: imapclient==2.1.0 in c:\\users\\kirch\\anaconda3\\lib\\site-packages (from extract-msg==0.23.1->textract) (2.1.0)\n",
      "Requirement already satisfied: sortedcontainers in c:\\users\\kirch\\anaconda3\\lib\\site-packages (from pdfminer.six==20181108->textract) (2.2.2)\n",
      "Requirement already satisfied: pycryptodome in c:\\users\\kirch\\anaconda3\\lib\\site-packages (from pdfminer.six==20181108->textract) (3.10.1)\n",
      "Requirement already satisfied: Pillow>=3.3.2 in c:\\users\\kirch\\anaconda3\\lib\\site-packages (from python-pptx==0.6.18->textract) (8.0.1)\n",
      "Requirement already satisfied: XlsxWriter>=0.5.7 in c:\\users\\kirch\\anaconda3\\lib\\site-packages (from python-pptx==0.6.18->textract) (1.3.7)\n",
      "Requirement already satisfied: pytz in c:\\users\\kirch\\anaconda3\\lib\\site-packages (from tzlocal==1.5.1->extract-msg==0.23.1->textract) (2020.1)\n",
      "Requirement already satisfied: sklearn in c:\\users\\kirch\\anaconda3\\lib\\site-packages (from pyLDAvis) (0.0)\n",
      "Requirement already satisfied: future in c:\\users\\kirch\\anaconda3\\lib\\site-packages (from pyLDAvis) (0.18.2)\n",
      "Requirement already satisfied: jinja2 in c:\\users\\kirch\\anaconda3\\lib\\site-packages (from pyLDAvis) (2.11.2)\n",
      "Requirement already satisfied: setuptools in c:\\users\\kirch\\anaconda3\\lib\\site-packages (from pyLDAvis) (50.3.1.post20201107)\n",
      "Requirement already satisfied: pandas>=1.2.0 in c:\\users\\kirch\\anaconda3\\lib\\site-packages (from pyLDAvis) (1.2.4)\n",
      "Requirement already satisfied: numexpr in c:\\users\\kirch\\anaconda3\\lib\\site-packages (from pyLDAvis) (2.7.1)\n",
      "Requirement already satisfied: scikit-learn in c:\\users\\kirch\\anaconda3\\lib\\site-packages (from pyLDAvis) (0.23.2)\n",
      "Requirement already satisfied: joblib in c:\\users\\kirch\\anaconda3\\lib\\site-packages (from pyLDAvis) (0.17.0)\n",
      "Requirement already satisfied: funcy in c:\\users\\kirch\\anaconda3\\lib\\site-packages (from pyLDAvis) (1.16)\n",
      "Requirement already satisfied: python-dateutil>=2.7.3 in c:\\users\\kirch\\anaconda3\\lib\\site-packages (from pandas>=1.2.0->pyLDAvis) (2.8.1)\n",
      "Requirement already satisfied: srsly<3.0.0,>=2.4.1 in c:\\users\\kirch\\anaconda3\\lib\\site-packages (from spaCy) (2.4.1)\n",
      "Requirement already satisfied: catalogue<2.1.0,>=2.0.3 in c:\\users\\kirch\\anaconda3\\lib\\site-packages (from spaCy) (2.0.4)\n",
      "Requirement already satisfied: wasabi<1.1.0,>=0.8.1 in c:\\users\\kirch\\anaconda3\\lib\\site-packages (from spaCy) (0.8.2)\n",
      "Requirement already satisfied: pydantic<1.8.0,>=1.7.1 in c:\\users\\kirch\\anaconda3\\lib\\site-packages (from spaCy) (1.7.4)\n",
      "Requirement already satisfied: blis<0.8.0,>=0.4.0 in c:\\users\\kirch\\anaconda3\\lib\\site-packages (from spaCy) (0.7.4)\n",
      "Requirement already satisfied: tqdm<5.0.0,>=4.38.0 in c:\\users\\kirch\\anaconda3\\lib\\site-packages (from spaCy) (4.50.2)\n",
      "Requirement already satisfied: typer<0.4.0,>=0.3.0 in c:\\users\\kirch\\anaconda3\\lib\\site-packages (from spaCy) (0.3.2)\n",
      "Requirement already satisfied: thinc<8.1.0,>=8.0.3 in c:\\users\\kirch\\anaconda3\\lib\\site-packages (from spaCy) (8.0.4)\n",
      "Requirement already satisfied: cymem<2.1.0,>=2.0.2 in c:\\users\\kirch\\anaconda3\\lib\\site-packages (from spaCy) (2.0.5)\n",
      "Requirement already satisfied: pathy>=0.3.5 in c:\\users\\kirch\\anaconda3\\lib\\site-packages (from spaCy) (0.5.2)\n",
      "Requirement already satisfied: packaging>=20.0 in c:\\users\\kirch\\anaconda3\\lib\\site-packages (from spaCy) (20.4)\n",
      "Requirement already satisfied: preshed<3.1.0,>=3.0.2 in c:\\users\\kirch\\anaconda3\\lib\\site-packages (from spaCy) (3.0.5)\n",
      "Requirement already satisfied: spacy-legacy<3.1.0,>=3.0.4 in c:\\users\\kirch\\anaconda3\\lib\\site-packages (from spaCy) (3.0.5)\n",
      "Requirement already satisfied: murmurhash<1.1.0,>=0.28.0 in c:\\users\\kirch\\anaconda3\\lib\\site-packages (from spaCy) (1.0.5)\n",
      "Requirement already satisfied: pyparsing>=2.0.2 in c:\\users\\kirch\\anaconda3\\lib\\site-packages (from packaging>=20.0->spaCy) (2.4.7)\n",
      "Requirement already satisfied: certifi>=2017.4.17 in c:\\users\\kirch\\anaconda3\\lib\\site-packages (from requests->smart-open>=1.8.1->gensim) (2020.6.20)\n",
      "Requirement already satisfied: urllib3!=1.25.0,!=1.25.1,<1.26,>=1.21.1 in c:\\users\\kirch\\anaconda3\\lib\\site-packages (from requests->smart-open>=1.8.1->gensim) (1.25.11)\n",
      "Requirement already satisfied: idna<3,>=2.5 in c:\\users\\kirch\\anaconda3\\lib\\site-packages (from requests->smart-open>=1.8.1->gensim) (2.10)\n",
      "Requirement already satisfied: click<7.2.0,>=7.1.1 in c:\\users\\kirch\\anaconda3\\lib\\site-packages (from typer<0.4.0,>=0.3.0->spaCy) (7.1.2)\n",
      "Requirement already satisfied: pyphen in c:\\users\\kirch\\anaconda3\\lib\\site-packages (from textstat) (0.10.0)\n",
      "Requirement already satisfied: nltk>=3.1 in c:\\users\\kirch\\anaconda3\\lib\\site-packages (from textblob) (3.6.2)\n",
      "Requirement already satisfied: regex in c:\\users\\kirch\\anaconda3\\lib\\site-packages (from nltk>=3.1->textblob) (2020.10.15)\n",
      "Requirement already satisfied: MarkupSafe>=0.23 in c:\\users\\kirch\\anaconda3\\lib\\site-packages (from jinja2->pyLDAvis) (1.1.1)\n",
      "Requirement already satisfied: threadpoolctl>=2.0.0 in c:\\users\\kirch\\anaconda3\\lib\\site-packages (from scikit-learn->pyLDAvis) (2.1.0)\n"
     ]
    }
   ],
   "source": [
    "!pip install gensim textract pyLDAvis spaCy textstat textblob"
   ]
  },
  {
   "cell_type": "code",
   "execution_count": 6,
   "metadata": {},
   "outputs": [],
   "source": [
    "import warnings\n",
    "warnings.filterwarnings(\"ignore\", category=DeprecationWarning)"
   ]
  },
  {
   "cell_type": "code",
   "execution_count": 7,
   "metadata": {},
   "outputs": [],
   "source": [
    "import os\n",
    "import pathlib\n",
    "import time\n",
    "import codecs\n",
    "import string\n",
    "import re\n",
    "from collections import Counter\n",
    "from collections import defaultdict\n",
    "\n",
    "import pandas as pd\n",
    "import numpy as np\n",
    "import matplotlib.pyplot as plt\n",
    "import seaborn as sns\n",
    "\n",
    "import urllib\n",
    "import requests\n",
    "from bs4 import BeautifulSoup\n",
    "\n",
    "import nltk\n",
    "import networkx as nx\n",
    "import gensim\n",
    "from wordcloud import WordCloud\n",
    "import textract\n",
    "import pyLDAvis\n",
    "import pyLDAvis.gensim_models\n",
    "import spacy\n",
    "import textstat\n",
    "import textblob\n",
    "\n",
    "from IPython.core.display import Image\n",
    "%matplotlib inline"
   ]
  },
  {
   "cell_type": "code",
   "execution_count": 8,
   "metadata": {},
   "outputs": [],
   "source": [
    "dfhate = pd.read_csv('FinalBalancedDataset.csv')"
   ]
  },
  {
   "cell_type": "code",
   "execution_count": 9,
   "metadata": {},
   "outputs": [
    {
     "data": {
      "text/html": [
       "<div>\n",
       "<style scoped>\n",
       "    .dataframe tbody tr th:only-of-type {\n",
       "        vertical-align: middle;\n",
       "    }\n",
       "\n",
       "    .dataframe tbody tr th {\n",
       "        vertical-align: top;\n",
       "    }\n",
       "\n",
       "    .dataframe thead th {\n",
       "        text-align: right;\n",
       "    }\n",
       "</style>\n",
       "<table border=\"1\" class=\"dataframe\">\n",
       "  <thead>\n",
       "    <tr style=\"text-align: right;\">\n",
       "      <th></th>\n",
       "      <th>Unnamed: 0</th>\n",
       "      <th>Toxicity</th>\n",
       "      <th>tweet</th>\n",
       "    </tr>\n",
       "  </thead>\n",
       "  <tbody>\n",
       "    <tr>\n",
       "      <th>0</th>\n",
       "      <td>0</td>\n",
       "      <td>0</td>\n",
       "      <td>@user when a father is dysfunctional and is s...</td>\n",
       "    </tr>\n",
       "    <tr>\n",
       "      <th>1</th>\n",
       "      <td>1</td>\n",
       "      <td>0</td>\n",
       "      <td>@user @user thanks for #lyft credit i can't us...</td>\n",
       "    </tr>\n",
       "    <tr>\n",
       "      <th>2</th>\n",
       "      <td>2</td>\n",
       "      <td>0</td>\n",
       "      <td>bihday your majesty</td>\n",
       "    </tr>\n",
       "    <tr>\n",
       "      <th>3</th>\n",
       "      <td>3</td>\n",
       "      <td>0</td>\n",
       "      <td>#model   i love u take with u all the time in ...</td>\n",
       "    </tr>\n",
       "    <tr>\n",
       "      <th>4</th>\n",
       "      <td>4</td>\n",
       "      <td>0</td>\n",
       "      <td>factsguide: society now    #motivation</td>\n",
       "    </tr>\n",
       "  </tbody>\n",
       "</table>\n",
       "</div>"
      ],
      "text/plain": [
       "   Unnamed: 0  Toxicity                                              tweet\n",
       "0           0         0   @user when a father is dysfunctional and is s...\n",
       "1           1         0  @user @user thanks for #lyft credit i can't us...\n",
       "2           2         0                                bihday your majesty\n",
       "3           3         0  #model   i love u take with u all the time in ...\n",
       "4           4         0             factsguide: society now    #motivation"
      ]
     },
     "execution_count": 9,
     "metadata": {},
     "output_type": "execute_result"
    }
   ],
   "source": [
    "dfhate.head(5)"
   ]
  },
  {
   "cell_type": "code",
   "execution_count": 9,
   "metadata": {},
   "outputs": [
    {
     "data": {
      "text/html": [
       "<div>\n",
       "<style scoped>\n",
       "    .dataframe tbody tr th:only-of-type {\n",
       "        vertical-align: middle;\n",
       "    }\n",
       "\n",
       "    .dataframe tbody tr th {\n",
       "        vertical-align: top;\n",
       "    }\n",
       "\n",
       "    .dataframe thead th {\n",
       "        text-align: right;\n",
       "    }\n",
       "</style>\n",
       "<table border=\"1\" class=\"dataframe\">\n",
       "  <thead>\n",
       "    <tr style=\"text-align: right;\">\n",
       "      <th></th>\n",
       "      <th>Unnamed: 0</th>\n",
       "      <th>Toxicity</th>\n",
       "      <th>tweet</th>\n",
       "    </tr>\n",
       "  </thead>\n",
       "  <tbody>\n",
       "    <tr>\n",
       "      <th>56740</th>\n",
       "      <td>56740</td>\n",
       "      <td>1</td>\n",
       "      <td>you's a muthaf***in lie &amp;#8220;@LifeAsKing: @2...</td>\n",
       "    </tr>\n",
       "    <tr>\n",
       "      <th>56741</th>\n",
       "      <td>56741</td>\n",
       "      <td>1</td>\n",
       "      <td>you've gone and broke the wrong heart baby, an...</td>\n",
       "    </tr>\n",
       "    <tr>\n",
       "      <th>56742</th>\n",
       "      <td>56742</td>\n",
       "      <td>1</td>\n",
       "      <td>young buck wanna eat!!.. dat nigguh like I ain...</td>\n",
       "    </tr>\n",
       "    <tr>\n",
       "      <th>56743</th>\n",
       "      <td>56743</td>\n",
       "      <td>1</td>\n",
       "      <td>youu got wild bitches tellin you lies</td>\n",
       "    </tr>\n",
       "    <tr>\n",
       "      <th>56744</th>\n",
       "      <td>56744</td>\n",
       "      <td>0</td>\n",
       "      <td>~~Ruffled | Ntac Eileen Dahlia - Beautiful col...</td>\n",
       "    </tr>\n",
       "  </tbody>\n",
       "</table>\n",
       "</div>"
      ],
      "text/plain": [
       "       Unnamed: 0  Toxicity                                              tweet\n",
       "56740       56740         1  you's a muthaf***in lie &#8220;@LifeAsKing: @2...\n",
       "56741       56741         1  you've gone and broke the wrong heart baby, an...\n",
       "56742       56742         1  young buck wanna eat!!.. dat nigguh like I ain...\n",
       "56743       56743         1              youu got wild bitches tellin you lies\n",
       "56744       56744         0  ~~Ruffled | Ntac Eileen Dahlia - Beautiful col..."
      ]
     },
     "execution_count": 9,
     "metadata": {},
     "output_type": "execute_result"
    }
   ],
   "source": [
    "dfhate.tail(5)"
   ]
  },
  {
   "cell_type": "code",
   "execution_count": 10,
   "metadata": {},
   "outputs": [
    {
     "data": {
      "text/plain": [
       "Index(['Unnamed: 0', 'Toxicity', 'tweet'], dtype='object')"
      ]
     },
     "execution_count": 10,
     "metadata": {},
     "output_type": "execute_result"
    }
   ],
   "source": [
    "dfhate.columns"
   ]
  },
  {
   "cell_type": "code",
   "execution_count": 11,
   "metadata": {},
   "outputs": [
    {
     "name": "stdout",
     "output_type": "stream",
     "text": [
      "<class 'pandas.core.frame.DataFrame'>\n",
      "RangeIndex: 56745 entries, 0 to 56744\n",
      "Data columns (total 3 columns):\n",
      " #   Column      Non-Null Count  Dtype \n",
      "---  ------      --------------  ----- \n",
      " 0   Unnamed: 0  56745 non-null  int64 \n",
      " 1   Toxicity    56745 non-null  int64 \n",
      " 2   tweet       56745 non-null  object\n",
      "dtypes: int64(2), object(1)\n",
      "memory usage: 1.3+ MB\n"
     ]
    }
   ],
   "source": [
    "dfhate.info()"
   ]
  },
  {
   "cell_type": "markdown",
   "metadata": {},
   "source": [
    " "
   ]
  },
  {
   "cell_type": "markdown",
   "metadata": {},
   "source": [
    "<h3>Number of characters in each sentence</h3>"
   ]
  },
  {
   "cell_type": "code",
   "execution_count": 12,
   "metadata": {},
   "outputs": [
    {
     "data": {
      "text/plain": [
       "<AxesSubplot:>"
      ]
     },
     "execution_count": 12,
     "metadata": {},
     "output_type": "execute_result"
    },
    {
     "data": {
      "image/png": "[encoded data removed]",
      "text/plain": [
       "<Figure size 432x288 with 1 Axes>"
      ]
     },
     "metadata": {
      "needs_background": "light"
     },
     "output_type": "display_data"
    }
   ],
   "source": [
    "dfhate['tweet'].str.len().hist()"
   ]
  },
  {
   "cell_type": "markdown",
   "metadata": {},
   "source": [
    "<h3>Number of words in each  tweet</h3>"
   ]
  },
  {
   "cell_type": "code",
   "execution_count": 14,
   "metadata": {},
   "outputs": [],
   "source": [
    "def plot_word_number_histogram(text):\n",
    "    text.str.split().\\\n",
    "        map(lambda x: len(x)).\\\n",
    "        hist()"
   ]
  },
  {
   "cell_type": "code",
   "execution_count": 15,
   "metadata": {},
   "outputs": [
    {
     "data": {
      "image/png": "[encoded data removed]",
      "text/plain": [
       "<Figure size 432x288 with 1 Axes>"
      ]
     },
     "metadata": {
      "needs_background": "light"
     },
     "output_type": "display_data"
    }
   ],
   "source": [
    "plot_word_number_histogram(dfhate['tweet'])"
   ]
  },
  {
   "cell_type": "markdown",
   "metadata": {},
   "source": [
    "<h3>Average word length in each tweet</h3>"
   ]
  },
  {
   "cell_type": "code",
   "execution_count": 17,
   "metadata": {},
   "outputs": [
    {
     "data": {
      "text/plain": [
       "<AxesSubplot:>"
      ]
     },
     "execution_count": 17,
     "metadata": {},
     "output_type": "execute_result"
    },
    {
     "data": {
      "image/png": "[encoded data removed]",
      "text/plain": [
       "<Figure size 432x288 with 1 Axes>"
      ]
     },
     "metadata": {
      "needs_background": "light"
     },
     "output_type": "display_data"
    }
   ],
   "source": [
    "dfhate['tweet'].str.split().\\\n",
    "   apply(lambda x : [len(i) for i in x]). \\\n",
    "   map(lambda x: np.mean(x)).hist()"
   ]
  },
  {
   "cell_type": "markdown",
   "metadata": {},
   "source": [
    " "
   ]
  },
  {
   "cell_type": "markdown",
   "metadata": {},
   "source": [
    "<h3>Data Cleaning and Data Preparation</h3>"
   ]
  },
  {
   "cell_type": "code",
   "execution_count": 10,
   "metadata": {},
   "outputs": [
    {
     "name": "stderr",
     "output_type": "stream",
     "text": [
      "[nltk_data] Downloading package stopwords to\n",
      "[nltk_data]     C:\\Users\\kirch\\AppData\\Roaming\\nltk_data...\n",
      "[nltk_data]   Package stopwords is already up-to-date!\n",
      "[nltk_data] Downloading package punkt to\n",
      "[nltk_data]     C:\\Users\\kirch\\AppData\\Roaming\\nltk_data...\n",
      "[nltk_data]   Package punkt is already up-to-date!\n",
      "[nltk_data] Downloading package wordnet to\n",
      "[nltk_data]     C:\\Users\\kirch\\AppData\\Roaming\\nltk_data...\n",
      "[nltk_data]   Package wordnet is already up-to-date!\n",
      "[nltk_data] Downloading package averaged_perceptron_tagger to\n",
      "[nltk_data]     C:\\Users\\kirch\\AppData\\Roaming\\nltk_data...\n",
      "[nltk_data]   Package averaged_perceptron_tagger is already up-to-\n",
      "[nltk_data]       date!\n",
      "[nltk_data] Downloading package brown to\n",
      "[nltk_data]     C:\\Users\\kirch\\AppData\\Roaming\\nltk_data...\n",
      "[nltk_data]   Package brown is already up-to-date!\n"
     ]
    },
    {
     "data": {
      "text/plain": [
       "True"
      ]
     },
     "execution_count": 10,
     "metadata": {},
     "output_type": "execute_result"
    }
   ],
   "source": [
    "nltk.download('stopwords')\n",
    "nltk.download('punkt')\n",
    "nltk.download('wordnet')\n",
    "nltk.download('averaged_perceptron_tagger')\n",
    "nltk.download('brown')"
   ]
  },
  {
   "cell_type": "code",
   "execution_count": 11,
   "metadata": {},
   "outputs": [],
   "source": [
    "dfhate.dropna(axis='rows', subset=[\"tweet\"], inplace=True)"
   ]
  },
  {
   "cell_type": "code",
   "execution_count": 12,
   "metadata": {},
   "outputs": [],
   "source": [
    "dfhate['tweet'] += \" \""
   ]
  },
  {
   "cell_type": "code",
   "execution_count": 14,
   "metadata": {},
   "outputs": [
    {
     "data": {
      "text/plain": [
       "\" @user when a father is dysfunctional and is so selfish he drags his kids into his dysfunction.   #run @user @user thanks for #lyft credit i can't use cause they don't offer wheelchair vans in pdx.    #disapointed #getthanked   bihday your majesty #model   i love u take with u all the time in urð\\x9f\\x93±!!! ð\\x9f\\x98\\x99ð\\x9f\\x98\\x8eð\\x9f\\x91\\x84ð\\x9f\\x91\\x85ð\\x9f\\x92¦ð\\x9f\\x92¦ð\\x9f\\x92¦    factsguide: society now    #motivation [2/2] huge fan fare and big talking before they leave. chaos and pay disputes when they get there. #allshowandnogo    @user camping tomorrow @user @user @user @user @user @user @user dannyâ\\x80¦ the next school year is the year for exams.ð\\x9f\\x98¯ can't think about that ð\\x9f\\x98\\xad #school #exams   #hate #imagine #actorslife #revolutionschool #girl we won!!! love the land!!! #allin #cavs #champions #cleveland #clevelandcavaliers  â\\x80¦   @user @user welcome here !  i'm   it's so #gr8 !   â\\x86\\x9d #ireland consumer price index (mom) climbed from previous 0.2% to 0.5% in may   #blog #silver #gold #forex we are so selfish. #orlando #standwith\""
      ]
     },
     "execution_count": 14,
     "metadata": {},
     "output_type": "execute_result"
    }
   ],
   "source": [
    "texts = dfhate['tweet'].sum()\n",
    "texts[0:1000]"
   ]
  },
  {
   "cell_type": "code",
   "execution_count": 15,
   "metadata": {},
   "outputs": [],
   "source": [
    "stop_en = nltk.corpus.stopwords.words('english')"
   ]
  },
  {
   "cell_type": "code",
   "execution_count": 16,
   "metadata": {},
   "outputs": [],
   "source": [
    "stop_en.extend(['-','', '”'])"
   ]
  },
  {
   "cell_type": "code",
   "execution_count": 17,
   "metadata": {},
   "outputs": [
    {
     "data": {
      "text/plain": [
       "['user',\n",
       " 'father',\n",
       " 'dysfunctional',\n",
       " 'selfish',\n",
       " 'drags',\n",
       " 'kids',\n",
       " 'dysfunction',\n",
       " 'run',\n",
       " 'user',\n",
       " 'user',\n",
       " 'thanks',\n",
       " 'lyft',\n",
       " 'credit',\n",
       " \"can't\",\n",
       " 'use',\n",
       " 'cause',\n",
       " 'offer',\n",
       " 'wheelchair',\n",
       " 'vans',\n",
       " 'pdx']"
      ]
     },
     "execution_count": 17,
     "metadata": {},
     "output_type": "execute_result"
    }
   ],
   "source": [
    "list_words = texts.split()\n",
    "list_words = [l.strip().lower() for l in list_words]\n",
    "list_words = [l.strip(string.punctuation) for l in list_words]\n",
    "list_words = [l for l in list_words if l not in stop_en]\n",
    "list_words[0:20]"
   ]
  },
  {
   "cell_type": "markdown",
   "metadata": {},
   "source": [
    "<h3>Top 20 most common words</h3>"
   ]
  },
  {
   "cell_type": "code",
   "execution_count": 25,
   "metadata": {},
   "outputs": [],
   "source": [
    "freqdist = Counter(list_words)"
   ]
  },
  {
   "cell_type": "code",
   "execution_count": 26,
   "metadata": {},
   "outputs": [
    {
     "data": {
      "text/plain": [
       "[('user', 17474),\n",
       " ('bitch', 8162),\n",
       " ('rt', 7577),\n",
       " ('like', 3801),\n",
       " ('love', 3339),\n",
       " ('bitches', 3071),\n",
       " (\"i'm\", 2610),\n",
       " ('day', 2526),\n",
       " ('amp', 2421),\n",
       " ('u', 2408),\n",
       " ('get', 2345),\n",
       " ('hoes', 2343),\n",
       " ('pussy', 2122),\n",
       " ('hoe', 1872),\n",
       " ('happy', 1831),\n",
       " ('got', 1816),\n",
       " ('ass', 1629),\n",
       " ('time', 1546),\n",
       " ('fuck', 1518),\n",
       " ('one', 1478)]"
      ]
     },
     "execution_count": 26,
     "metadata": {},
     "output_type": "execute_result"
    }
   ],
   "source": [
    "freqdist.most_common(20)"
   ]
  },
  {
   "cell_type": "code",
   "execution_count": 27,
   "metadata": {},
   "outputs": [],
   "source": [
    "fmc = freqdist.most_common(20)"
   ]
  },
  {
   "cell_type": "code",
   "execution_count": 28,
   "metadata": {},
   "outputs": [
    {
     "name": "stdout",
     "output_type": "stream",
     "text": [
      "       word  count\n",
      "0      user  17474\n",
      "1     bitch   8162\n",
      "2        rt   7577\n",
      "3      like   3801\n",
      "4      love   3339\n",
      "5   bitches   3071\n",
      "6       i'm   2610\n",
      "7       day   2526\n",
      "8       amp   2421\n",
      "9         u   2408\n",
      "10      get   2345\n",
      "11     hoes   2343\n",
      "12    pussy   2122\n",
      "13      hoe   1872\n",
      "14    happy   1831\n",
      "15      got   1816\n",
      "16      ass   1629\n",
      "17     time   1546\n",
      "18     fuck   1518\n",
      "19      one   1478\n"
     ]
    }
   ],
   "source": [
    "df = pd.DataFrame(fmc, columns=['word','count'])\n",
    "print(df)"
   ]
  },
  {
   "cell_type": "code",
   "execution_count": 29,
   "metadata": {},
   "outputs": [
    {
     "data": {
      "text/plain": [
       "<AxesSubplot:xlabel='word'>"
      ]
     },
     "execution_count": 29,
     "metadata": {},
     "output_type": "execute_result"
    },
    {
     "data": {
      "image/png": "[encoded data removed]",
      "text/plain": [
       "<Figure size 432x288 with 1 Axes>"
      ]
     },
     "metadata": {
      "needs_background": "light"
     },
     "output_type": "display_data"
    }
   ],
   "source": [
    "df.plot(x ='word', y='count', kind = 'bar')"
   ]
  },
  {
   "cell_type": "markdown",
   "metadata": {},
   "source": [
    "<h3>Wordcloud of most frequent words</h3>"
   ]
  },
  {
   "cell_type": "code",
   "execution_count": 30,
   "metadata": {},
   "outputs": [
    {
     "name": "stdout",
     "output_type": "stream",
     "text": [
      "Requirement already satisfied: wordcloud in c:\\users\\kirch\\anaconda3\\lib\\site-packages (1.8.1)\n",
      "Requirement already satisfied: pillow in c:\\users\\kirch\\anaconda3\\lib\\site-packages (from wordcloud) (8.0.1)\n",
      "Requirement already satisfied: matplotlib in c:\\users\\kirch\\anaconda3\\lib\\site-packages (from wordcloud) (3.3.2)\n",
      "Requirement already satisfied: numpy>=1.6.1 in c:\\users\\kirch\\anaconda3\\lib\\site-packages (from wordcloud) (1.20.3)\n",
      "Requirement already satisfied: cycler>=0.10 in c:\\users\\kirch\\anaconda3\\lib\\site-packages (from matplotlib->wordcloud) (0.10.0)\n",
      "Requirement already satisfied: kiwisolver>=1.0.1 in c:\\users\\kirch\\anaconda3\\lib\\site-packages (from matplotlib->wordcloud) (1.3.0)\n",
      "Requirement already satisfied: python-dateutil>=2.1 in c:\\users\\kirch\\anaconda3\\lib\\site-packages (from matplotlib->wordcloud) (2.8.1)\n",
      "Requirement already satisfied: pyparsing!=2.0.4,!=2.1.2,!=2.1.6,>=2.0.3 in c:\\users\\kirch\\anaconda3\\lib\\site-packages (from matplotlib->wordcloud) (2.4.7)\n",
      "Requirement already satisfied: certifi>=2020.06.20 in c:\\users\\kirch\\anaconda3\\lib\\site-packages (from matplotlib->wordcloud) (2020.6.20)\n",
      "Requirement already satisfied: six in c:\\users\\kirch\\anaconda3\\lib\\site-packages (from cycler>=0.10->matplotlib->wordcloud) (1.12.0)\n",
      "Note: you may need to restart the kernel to use updated packages.\n"
     ]
    }
   ],
   "source": [
    "pip install wordcloud"
   ]
  },
  {
   "cell_type": "code",
   "execution_count": 31,
   "metadata": {},
   "outputs": [],
   "source": [
    "wordcloud = WordCloud(background_color=\"white\").generate(texts)"
   ]
  },
  {
   "cell_type": "code",
   "execution_count": 32,
   "metadata": {},
   "outputs": [
    {
     "data": {
      "image/png": "[encoded data removed]",
      "text/plain": [
       "<Figure size 432x288 with 1 Axes>"
      ]
     },
     "metadata": {
      "needs_background": "light"
     },
     "output_type": "display_data"
    }
   ],
   "source": [
    "plt.imshow(wordcloud, interpolation=\"bilinear\")\n",
    "plt.axis(\"off\")\n",
    "plt.show()"
   ]
  },
  {
   "cell_type": "markdown",
   "metadata": {},
   "source": [
    "<h3>Further Data Preparation</h3>"
   ]
  },
  {
   "cell_type": "code",
   "execution_count": 33,
   "metadata": {},
   "outputs": [],
   "source": [
    "stop = set(nltk.corpus.stopwords.words('english'))"
   ]
  },
  {
   "cell_type": "code",
   "execution_count": 34,
   "metadata": {},
   "outputs": [],
   "source": [
    "corpus=[]\n",
    "new = dfhate['tweet'].str.split()\n",
    "new = new.values.tolist()\n",
    "corpus = [word for i in new for word in i]"
   ]
  },
  {
   "cell_type": "code",
   "execution_count": 35,
   "metadata": {},
   "outputs": [
    {
     "data": {
      "text/plain": [
       "<BarContainer object of 10 artists>"
      ]
     },
     "execution_count": 35,
     "metadata": {},
     "output_type": "execute_result"
    },
    {
     "data": {
      "image/png": "[encoded data removed]",
      "text/plain": [
       "<Figure size 432x288 with 1 Axes>"
      ]
     },
     "metadata": {
      "needs_background": "light"
     },
     "output_type": "display_data"
    }
   ],
   "source": [
    "dic = defaultdict(int)\n",
    "for word in corpus:\n",
    "    if word in stop:\n",
    "        dic[word] += 1\n",
    "top = sorted(dic.items(), key=lambda x:x[1],reverse=True)[:10] \n",
    "x,y = zip(*top)\n",
    "plt.bar(x,y)"
   ]
  },
  {
   "cell_type": "markdown",
   "metadata": {},
   "source": [
    " "
   ]
  },
  {
   "cell_type": "markdown",
   "metadata": {},
   "source": [
    "<h3>N-Grams</h3>"
   ]
  },
  {
   "cell_type": "code",
   "execution_count": 37,
   "metadata": {},
   "outputs": [],
   "source": [
    "from nltk.util import ngrams"
   ]
  },
  {
   "cell_type": "code",
   "execution_count": 19,
   "metadata": {},
   "outputs": [],
   "source": [
    "from sklearn.feature_extraction.text import CountVectorizer\n",
    "\n",
    "def get_top_ngram(corpus, n=None):\n",
    "    vec = CountVectorizer(ngram_range=(n, n)).fit(corpus)\n",
    "    bag_of_words = vec.transform(corpus)\n",
    "    sum_words = bag_of_words.sum(axis=0) \n",
    "    words_freq = [(word, sum_words[0, idx]) \n",
    "                  for word, idx in vec.vocabulary_.items()]\n",
    "    words_freq =sorted(words_freq, key = lambda x: x[1], reverse=True)\n",
    "    return words_freq[:10]"
   ]
  },
  {
   "cell_type": "code",
   "execution_count": 39,
   "metadata": {},
   "outputs": [
    {
     "data": {
      "text/plain": [
       "<AxesSubplot:>"
      ]
     },
     "execution_count": 39,
     "metadata": {},
     "output_type": "execute_result"
    },
    {
     "data": {
      "image/png": "[encoded data removed]",
      "text/plain": [
       "<Figure size 432x288 with 1 Axes>"
      ]
     },
     "metadata": {
      "needs_background": "light"
     },
     "output_type": "display_data"
    }
   ],
   "source": [
    "top_n_bigrams=get_top_ngram(dfhate['tweet'],2)[:10]\n",
    "x,y = map(list,zip(*top_n_bigrams))\n",
    "sns.barplot(x=y,y=x)"
   ]
  },
  {
   "cell_type": "code",
   "execution_count": 40,
   "metadata": {},
   "outputs": [
    {
     "data": {
      "text/plain": [
       "<AxesSubplot:>"
      ]
     },
     "execution_count": 40,
     "metadata": {},
     "output_type": "execute_result"
    },
    {
     "data": {
      "image/png": "[encoded data removed]",
      "text/plain": [
       "<Figure size 432x288 with 1 Axes>"
      ]
     },
     "metadata": {
      "needs_background": "light"
     },
     "output_type": "display_data"
    }
   ],
   "source": [
    "top_tri_grams=get_top_ngram(dfhate['tweet'],n=3)\n",
    "x,y = map(list,zip(*top_tri_grams))\n",
    "sns.barplot(x=y,y=x)"
   ]
  },
  {
   "cell_type": "markdown",
   "metadata": {},
   "source": [
    " "
   ]
  },
  {
   "cell_type": "markdown",
   "metadata": {},
   "source": [
    "<h3>EDA with SpaCy</h3>"
   ]
  },
  {
   "cell_type": "code",
   "execution_count": 17,
   "metadata": {},
   "outputs": [
    {
     "name": "stdout",
     "output_type": "stream",
     "text": [
      "Requirement already satisfied: spacy in c:\\users\\kirch\\anaconda3\\lib\\site-packages (3.0.6)\n",
      "Requirement already satisfied: blis<0.8.0,>=0.4.0 in c:\\users\\kirch\\anaconda3\\lib\\site-packages (from spacy) (0.7.4)\n",
      "Requirement already satisfied: catalogue<2.1.0,>=2.0.3 in c:\\users\\kirch\\anaconda3\\lib\\site-packages (from spacy) (2.0.4)\n",
      "Requirement already satisfied: preshed<3.1.0,>=3.0.2 in c:\\users\\kirch\\anaconda3\\lib\\site-packages (from spacy) (3.0.5)\n",
      "Requirement already satisfied: wasabi<1.1.0,>=0.8.1 in c:\\users\\kirch\\anaconda3\\lib\\site-packages (from spacy) (0.8.2)\n",
      "Requirement already satisfied: murmurhash<1.1.0,>=0.28.0 in c:\\users\\kirch\\anaconda3\\lib\\site-packages (from spacy) (1.0.5)\n",
      "Requirement already satisfied: thinc<8.1.0,>=8.0.3 in c:\\users\\kirch\\anaconda3\\lib\\site-packages (from spacy) (8.0.4)\n",
      "Requirement already satisfied: pydantic<1.8.0,>=1.7.1 in c:\\users\\kirch\\anaconda3\\lib\\site-packages (from spacy) (1.7.4)\n",
      "Requirement already satisfied: pathy>=0.3.5 in c:\\users\\kirch\\anaconda3\\lib\\site-packages (from spacy) (0.5.2)\n",
      "Requirement already satisfied: tqdm<5.0.0,>=4.38.0 in c:\\users\\kirch\\anaconda3\\lib\\site-packages (from spacy) (4.50.2)\n",
      "Requirement already satisfied: cymem<2.1.0,>=2.0.2 in c:\\users\\kirch\\anaconda3\\lib\\site-packages (from spacy) (2.0.5)\n",
      "Requirement already satisfied: jinja2 in c:\\users\\kirch\\anaconda3\\lib\\site-packages (from spacy) (2.11.2)\n",
      "Requirement already satisfied: srsly<3.0.0,>=2.4.1 in c:\\users\\kirch\\anaconda3\\lib\\site-packages (from spacy) (2.4.1)\n",
      "Requirement already satisfied: numpy>=1.15.0 in c:\\users\\kirch\\anaconda3\\lib\\site-packages (from spacy) (1.20.3)\n",
      "Requirement already satisfied: packaging>=20.0 in c:\\users\\kirch\\anaconda3\\lib\\site-packages (from spacy) (20.4)\n",
      "Requirement already satisfied: spacy-legacy<3.1.0,>=3.0.4 in c:\\users\\kirch\\anaconda3\\lib\\site-packages (from spacy) (3.0.5)\n",
      "Requirement already satisfied: setuptools in c:\\users\\kirch\\anaconda3\\lib\\site-packages (from spacy) (50.3.1.post20201107)\n",
      "Requirement already satisfied: requests<3.0.0,>=2.13.0 in c:\\users\\kirch\\anaconda3\\lib\\site-packages (from spacy) (2.24.0)\n",
      "Requirement already satisfied: typer<0.4.0,>=0.3.0 in c:\\users\\kirch\\anaconda3\\lib\\site-packages (from spacy) (0.3.2)\n",
      "Requirement already satisfied: six in c:\\users\\kirch\\anaconda3\\lib\\site-packages (from packaging>=20.0->spacy) (1.12.0)\n",
      "Requirement already satisfied: pyparsing>=2.0.2 in c:\\users\\kirch\\anaconda3\\lib\\site-packages (from packaging>=20.0->spacy) (2.4.7)\n",
      "Requirement already satisfied: smart-open<4.0.0,>=2.2.0 in c:\\users\\kirch\\anaconda3\\lib\\site-packages (from pathy>=0.3.5->spacy) (3.0.0)\n",
      "Requirement already satisfied: urllib3!=1.25.0,!=1.25.1,<1.26,>=1.21.1 in c:\\users\\kirch\\anaconda3\\lib\\site-packages (from requests<3.0.0,>=2.13.0->spacy) (1.25.11)\n",
      "Requirement already satisfied: certifi>=2017.4.17 in c:\\users\\kirch\\anaconda3\\lib\\site-packages (from requests<3.0.0,>=2.13.0->spacy) (2020.6.20)\n",
      "Requirement already satisfied: chardet<4,>=3.0.2 in c:\\users\\kirch\\anaconda3\\lib\\site-packages (from requests<3.0.0,>=2.13.0->spacy) (3.0.4)\n",
      "Requirement already satisfied: idna<3,>=2.5 in c:\\users\\kirch\\anaconda3\\lib\\site-packages (from requests<3.0.0,>=2.13.0->spacy) (2.10)\n",
      "Requirement already satisfied: click<7.2.0,>=7.1.1 in c:\\users\\kirch\\anaconda3\\lib\\site-packages (from typer<0.4.0,>=0.3.0->spacy) (7.1.2)\n",
      "Requirement already satisfied: MarkupSafe>=0.23 in c:\\users\\kirch\\anaconda3\\lib\\site-packages (from jinja2->spacy) (1.1.1)\n",
      "Collecting en-core-web-sm==3.0.0\n",
      "  Downloading https://github.com/explosion/spacy-models/releases/download/en_core_web_sm-3.0.0/en_core_web_sm-3.0.0-py3-none-any.whl (13.7 MB)\n",
      "Requirement already satisfied: spacy<3.1.0,>=3.0.0 in c:\\users\\kirch\\anaconda3\\lib\\site-packages (from en-core-web-sm==3.0.0) (3.0.6)\n",
      "Requirement already satisfied: blis<0.8.0,>=0.4.0 in c:\\users\\kirch\\anaconda3\\lib\\site-packages (from spacy<3.1.0,>=3.0.0->en-core-web-sm==3.0.0) (0.7.4)\n",
      "Requirement already satisfied: numpy>=1.15.0 in c:\\users\\kirch\\anaconda3\\lib\\site-packages (from spacy<3.1.0,>=3.0.0->en-core-web-sm==3.0.0) (1.20.3)\n",
      "Requirement already satisfied: cymem<2.1.0,>=2.0.2 in c:\\users\\kirch\\anaconda3\\lib\\site-packages (from spacy<3.1.0,>=3.0.0->en-core-web-sm==3.0.0) (2.0.5)\n",
      "Requirement already satisfied: spacy-legacy<3.1.0,>=3.0.4 in c:\\users\\kirch\\anaconda3\\lib\\site-packages (from spacy<3.1.0,>=3.0.0->en-core-web-sm==3.0.0) (3.0.5)\n",
      "Requirement already satisfied: pathy>=0.3.5 in c:\\users\\kirch\\anaconda3\\lib\\site-packages (from spacy<3.1.0,>=3.0.0->en-core-web-sm==3.0.0) (0.5.2)\n",
      "Requirement already satisfied: requests<3.0.0,>=2.13.0 in c:\\users\\kirch\\anaconda3\\lib\\site-packages (from spacy<3.1.0,>=3.0.0->en-core-web-sm==3.0.0) (2.24.0)\n",
      "Requirement already satisfied: preshed<3.1.0,>=3.0.2 in c:\\users\\kirch\\anaconda3\\lib\\site-packages (from spacy<3.1.0,>=3.0.0->en-core-web-sm==3.0.0) (3.0.5)\n",
      "Requirement already satisfied: pydantic<1.8.0,>=1.7.1 in c:\\users\\kirch\\anaconda3\\lib\\site-packages (from spacy<3.1.0,>=3.0.0->en-core-web-sm==3.0.0) (1.7.4)\n",
      "Requirement already satisfied: jinja2 in c:\\users\\kirch\\anaconda3\\lib\\site-packages (from spacy<3.1.0,>=3.0.0->en-core-web-sm==3.0.0) (2.11.2)\n",
      "Requirement already satisfied: setuptools in c:\\users\\kirch\\anaconda3\\lib\\site-packages (from spacy<3.1.0,>=3.0.0->en-core-web-sm==3.0.0) (50.3.1.post20201107)\n",
      "Requirement already satisfied: packaging>=20.0 in c:\\users\\kirch\\anaconda3\\lib\\site-packages (from spacy<3.1.0,>=3.0.0->en-core-web-sm==3.0.0) (20.4)\n",
      "Requirement already satisfied: murmurhash<1.1.0,>=0.28.0 in c:\\users\\kirch\\anaconda3\\lib\\site-packages (from spacy<3.1.0,>=3.0.0->en-core-web-sm==3.0.0) (1.0.5)\n",
      "Requirement already satisfied: wasabi<1.1.0,>=0.8.1 in c:\\users\\kirch\\anaconda3\\lib\\site-packages (from spacy<3.1.0,>=3.0.0->en-core-web-sm==3.0.0) (0.8.2)\n",
      "Requirement already satisfied: thinc<8.1.0,>=8.0.3 in c:\\users\\kirch\\anaconda3\\lib\\site-packages (from spacy<3.1.0,>=3.0.0->en-core-web-sm==3.0.0) (8.0.4)\n",
      "Requirement already satisfied: tqdm<5.0.0,>=4.38.0 in c:\\users\\kirch\\anaconda3\\lib\\site-packages (from spacy<3.1.0,>=3.0.0->en-core-web-sm==3.0.0) (4.50.2)\n",
      "Requirement already satisfied: srsly<3.0.0,>=2.4.1 in c:\\users\\kirch\\anaconda3\\lib\\site-packages (from spacy<3.1.0,>=3.0.0->en-core-web-sm==3.0.0) (2.4.1)\n",
      "Requirement already satisfied: catalogue<2.1.0,>=2.0.3 in c:\\users\\kirch\\anaconda3\\lib\\site-packages (from spacy<3.1.0,>=3.0.0->en-core-web-sm==3.0.0) (2.0.4)\n",
      "Requirement already satisfied: typer<0.4.0,>=0.3.0 in c:\\users\\kirch\\anaconda3\\lib\\site-packages (from spacy<3.1.0,>=3.0.0->en-core-web-sm==3.0.0) (0.3.2)\n",
      "Requirement already satisfied: six in c:\\users\\kirch\\anaconda3\\lib\\site-packages (from packaging>=20.0->spacy<3.1.0,>=3.0.0->en-core-web-sm==3.0.0) (1.12.0)\n",
      "Requirement already satisfied: pyparsing>=2.0.2 in c:\\users\\kirch\\anaconda3\\lib\\site-packages (from packaging>=20.0->spacy<3.1.0,>=3.0.0->en-core-web-sm==3.0.0) (2.4.7)\n",
      "Requirement already satisfied: smart-open<4.0.0,>=2.2.0 in c:\\users\\kirch\\anaconda3\\lib\\site-packages (from pathy>=0.3.5->spacy<3.1.0,>=3.0.0->en-core-web-sm==3.0.0) (3.0.0)\n",
      "Requirement already satisfied: chardet<4,>=3.0.2 in c:\\users\\kirch\\anaconda3\\lib\\site-packages (from requests<3.0.0,>=2.13.0->spacy<3.1.0,>=3.0.0->en-core-web-sm==3.0.0) (3.0.4)\n",
      "Requirement already satisfied: urllib3!=1.25.0,!=1.25.1,<1.26,>=1.21.1 in c:\\users\\kirch\\anaconda3\\lib\\site-packages (from requests<3.0.0,>=2.13.0->spacy<3.1.0,>=3.0.0->en-core-web-sm==3.0.0) (1.25.11)\n",
      "Requirement already satisfied: certifi>=2017.4.17 in c:\\users\\kirch\\anaconda3\\lib\\site-packages (from requests<3.0.0,>=2.13.0->spacy<3.1.0,>=3.0.0->en-core-web-sm==3.0.0) (2020.6.20)\n",
      "Requirement already satisfied: idna<3,>=2.5 in c:\\users\\kirch\\anaconda3\\lib\\site-packages (from requests<3.0.0,>=2.13.0->spacy<3.1.0,>=3.0.0->en-core-web-sm==3.0.0) (2.10)\n",
      "Requirement already satisfied: click<7.2.0,>=7.1.1 in c:\\users\\kirch\\anaconda3\\lib\\site-packages (from typer<0.4.0,>=0.3.0->spacy<3.1.0,>=3.0.0->en-core-web-sm==3.0.0) (7.1.2)\n",
      "Requirement already satisfied: MarkupSafe>=0.23 in c:\\users\\kirch\\anaconda3\\lib\\site-packages (from jinja2->spacy<3.1.0,>=3.0.0->en-core-web-sm==3.0.0) (1.1.1)\n",
      "Installing collected packages: en-core-web-sm\n",
      "Successfully installed en-core-web-sm-3.0.0\n",
      "[+] Download and installation successful\n",
      "You can now load the package via spacy.load('en_core_web_sm')\n",
      "\n",
      "| Loading compatibility table...\n",
      "\u001b[2K[+] Loaded compatibility table\n",
      "\u001b[1m\n",
      "================= Installed pipeline packages (spaCy v3.0.6) =================\u001b[0m\n",
      "[i] spaCy installation: C:\\Users\\kirch\\anaconda3\\lib\\site-packages\\spacy\n",
      "\n",
      "NAME             SPACY            VERSION      \n",
      "en_core_web_sm   >=3.0.0,<3.1.0   3.0.0     [+]\n",
      "\n"
     ]
    }
   ],
   "source": [
    "!pip install -U spacy\n",
    "!python -m spacy download en_core_web_sm\n",
    "!python -m spacy validate"
   ]
  },
  {
   "cell_type": "code",
   "execution_count": 16,
   "metadata": {},
   "outputs": [],
   "source": [
    "en_nlp = spacy.load('en_core_web_sm', exclude=[\"ner\"])"
   ]
  },
  {
   "cell_type": "code",
   "execution_count": 17,
   "metadata": {},
   "outputs": [],
   "source": [
    "en_nlp.max_length = 4882555"
   ]
  },
  {
   "cell_type": "code",
   "execution_count": 18,
   "metadata": {},
   "outputs": [],
   "source": [
    "nlp = spacy.load(\"en_core_web_sm\", disable=[\"tagger\", \"parser\"])"
   ]
  },
  {
   "cell_type": "code",
   "execution_count": 20,
   "metadata": {},
   "outputs": [],
   "source": [
    "nlp.enable_pipe(\"tagger\")"
   ]
  },
  {
   "cell_type": "code",
   "execution_count": 21,
   "metadata": {},
   "outputs": [],
   "source": [
    "en_doc = en_nlp(texts)"
   ]
  },
  {
   "cell_type": "markdown",
   "metadata": {},
   "source": [
    "<h4>Part of Speech</h4>"
   ]
  },
  {
   "cell_type": "code",
   "execution_count": 23,
   "metadata": {},
   "outputs": [
    {
     "data": {
      "text/plain": [
       "{103: 'SPACE',\n",
       " 86: 'ADV',\n",
       " 90: 'DET',\n",
       " 92: 'NOUN',\n",
       " 100: 'VERB',\n",
       " 84: 'ADJ',\n",
       " 89: 'CCONJ',\n",
       " 95: 'PRON',\n",
       " 85: 'ADP',\n",
       " 97: 'PUNCT',\n",
       " 93: 'NUM',\n",
       " 87: 'AUX',\n",
       " 94: 'PART',\n",
       " 98: 'SCONJ',\n",
       " 96: 'PROPN',\n",
       " 101: 'X',\n",
       " 99: 'SYM',\n",
       " 91: 'INTJ'}"
      ]
     },
     "execution_count": 23,
     "metadata": {},
     "output_type": "execute_result"
    }
   ],
   "source": [
    "tagDict = {w.pos: w.pos_ for w in en_doc} \n",
    "tagDict"
   ]
  },
  {
   "cell_type": "code",
   "execution_count": 24,
   "metadata": {},
   "outputs": [
    {
     "data": {
      "text/plain": [
       "<AxesSubplot:>"
      ]
     },
     "execution_count": 24,
     "metadata": {},
     "output_type": "execute_result"
    },
    {
     "data": {
      "image/png": "[encoded data removed]",
      "text/plain": [
       "<Figure size 432x288 with 1 Axes>"
      ]
     },
     "metadata": {
      "needs_background": "light"
     },
     "output_type": "display_data"
    }
   ],
   "source": [
    "en_docPOS = pd.Series(en_doc.count_by(spacy.attrs.POS))/len(en_doc)\n",
    "\n",
    "df = pd.DataFrame([en_docPOS], index=['en'])\n",
    "df.columns = [tagDict[column] for column in df.columns]\n",
    "df.T.plot(kind='bar')"
   ]
  },
  {
   "cell_type": "code",
   "execution_count": 28,
   "metadata": {},
   "outputs": [
    {
     "data": {
      "text/plain": [
       "[('#', 33854),\n",
       " ('bitch', 7172),\n",
       " ('bitches', 2549),\n",
       " ('day', 2534),\n",
       " ('amp', 2338),\n",
       " ('u', 2045),\n",
       " ('pussy', 1949),\n",
       " ('hoes', 1892),\n",
       " ('hoe', 1689),\n",
       " ('ass', 1590)]"
      ]
     },
     "execution_count": 28,
     "metadata": {},
     "output_type": "execute_result"
    }
   ],
   "source": [
    "en_docNouns = [w for w in en_doc if w.pos_ == 'NOUN']\n",
    "Counter([w.text.strip() for w in en_docNouns]).most_common(10)"
   ]
  },
  {
   "cell_type": "markdown",
   "metadata": {},
   "source": [
    "<h4>The nouns are almost all negatively connotated or offensive.</h4>"
   ]
  },
  {
   "cell_type": "code",
   "execution_count": 30,
   "metadata": {},
   "outputs": [
    {
     "data": {
      "text/plain": [
       "[('happy', 1775),\n",
       " ('good', 1276),\n",
       " ('new', 1215),\n",
       " ('positive', 936),\n",
       " ('thankful', 921),\n",
       " ('@user', 763),\n",
       " ('more', 679),\n",
       " ('bad', 677),\n",
       " ('#', 629),\n",
       " ('best', 616)]"
      ]
     },
     "execution_count": 30,
     "metadata": {},
     "output_type": "execute_result"
    }
   ],
   "source": [
    "en_docAdj = [w for w in en_doc if w.pos_ == 'ADJ']\n",
    "Counter([w.text.strip() for w in en_docAdj]).most_common(10)"
   ]
  },
  {
   "cell_type": "markdown",
   "metadata": {},
   "source": [
    "<h4>The adjectives are almost all positively connotated.</h4>"
   ]
  },
  {
   "cell_type": "code",
   "execution_count": 32,
   "metadata": {},
   "outputs": [
    {
     "data": {
      "text/plain": [
       "[('be', 3739),\n",
       " ('have', 2017),\n",
       " ('get', 1987),\n",
       " ('got', 1932),\n",
       " ('love', 1814),\n",
       " (\"'m\", 1790),\n",
       " ('do', 1410),\n",
       " ('is', 1307),\n",
       " ('know', 1209),\n",
       " ('go', 1206)]"
      ]
     },
     "execution_count": 32,
     "metadata": {},
     "output_type": "execute_result"
    }
   ],
   "source": [
    "en_docVerb = [w for w in en_doc if w.pos_ == 'VERB']\n",
    "Counter([w.text.strip() for w in en_docVerb]).most_common(10)"
   ]
  },
  {
   "cell_type": "markdown",
   "metadata": {},
   "source": [
    "<h4>The adjectives are almost all positively connotated or neutral.</h4>"
   ]
  },
  {
   "cell_type": "markdown",
   "metadata": {},
   "source": [
    " "
   ]
  },
  {
   "cell_type": "markdown",
   "metadata": {},
   "source": [
    "<h3>EDA with regular expressions</h3>"
   ]
  },
  {
   "cell_type": "code",
   "execution_count": 141,
   "metadata": {},
   "outputs": [],
   "source": [
    "hashtags = re.findall('\\#\\w+', texts)"
   ]
  },
  {
   "cell_type": "code",
   "execution_count": 108,
   "metadata": {},
   "outputs": [],
   "source": [
    "string = str(hashtags)"
   ]
  },
  {
   "cell_type": "code",
   "execution_count": 110,
   "metadata": {},
   "outputs": [],
   "source": [
    "string_split = string.split()"
   ]
  },
  {
   "cell_type": "code",
   "execution_count": 118,
   "metadata": {},
   "outputs": [],
   "source": [
    "from collections import Counter"
   ]
  },
  {
   "cell_type": "code",
   "execution_count": 119,
   "metadata": {},
   "outputs": [],
   "source": [
    "Counters_found = Counter(string_split)"
   ]
  },
  {
   "cell_type": "code",
   "execution_count": 124,
   "metadata": {},
   "outputs": [
    {
     "name": "stdout",
     "output_type": "stream",
     "text": [
      "[(\"'#128514',\", 3241), (\"'#8220',\", 1726), (\"'#8221',\", 1681), (\"'#love',\", 1544), (\"'#8230',\", 1265), (\"'#positive',\", 874), (\"'#128557',\", 616), (\"'#healthy',\", 571), (\"'#smile',\", 549), (\"'#thankful',\", 492), (\"'#fun',\", 434), (\"'#life',\", 406), (\"'#128553',\", 368), (\"'#summer',\", 367), (\"'#model',\", 365), (\"'#affirmation',\", 363), (\"'#cute',\", 355), (\"'#i_am',\", 352), (\"'#blog',\", 346), (\"'#me',\", 336), (\"'#fathersday',\", 333), (\"'#128175',\", 311), (\"'#silver',\", 299), (\"'#gold',\", 298), (\"'#altwaystoheal',\", 295)]\n"
     ]
    }
   ],
   "source": [
    "most_occur = Counters_found.most_common(25)\n",
    "print(most_occur)"
   ]
  },
  {
   "cell_type": "code",
   "execution_count": 126,
   "metadata": {},
   "outputs": [
    {
     "name": "stdout",
     "output_type": "stream",
     "text": [
      "              hashtag  count\n",
      "0          '#128514',   3241\n",
      "1            '#8220',   1726\n",
      "2            '#8221',   1681\n",
      "3            '#love',   1544\n",
      "4            '#8230',   1265\n",
      "5        '#positive',    874\n",
      "6          '#128557',    616\n",
      "7         '#healthy',    571\n",
      "8           '#smile',    549\n",
      "9        '#thankful',    492\n",
      "10            '#fun',    434\n",
      "11           '#life',    406\n",
      "12         '#128553',    368\n",
      "13         '#summer',    367\n",
      "14          '#model',    365\n",
      "15    '#affirmation',    363\n",
      "16           '#cute',    355\n",
      "17           '#i_am',    352\n",
      "18           '#blog',    346\n",
      "19             '#me',    336\n",
      "20     '#fathersday',    333\n",
      "21         '#128175',    311\n",
      "22         '#silver',    299\n",
      "23           '#gold',    298\n",
      "24  '#altwaystoheal',    295\n"
     ]
    }
   ],
   "source": [
    "dfhash = pd.DataFrame(most_occur, columns=['hashtag','count'])\n",
    "print(df)"
   ]
  },
  {
   "cell_type": "code",
   "execution_count": 138,
   "metadata": {},
   "outputs": [
    {
     "data": {
      "text/plain": [
       "<AxesSubplot:xlabel='hashtag'>"
      ]
     },
     "execution_count": 138,
     "metadata": {},
     "output_type": "execute_result"
    },
    {
     "data": {
      "image/png": "[encoded data removed]",
      "text/plain": [
       "<Figure size 432x288 with 1 Axes>"
      ]
     },
     "metadata": {},
     "output_type": "display_data"
    }
   ],
   "source": [
    "dfhash.plot(x ='hashtag', y='count', kind = 'bar')"
   ]
  },
  {
   "cell_type": "markdown",
   "metadata": {},
   "source": [
    "<h4>Interestingly, the 25 most common hashtags are all associated with positivity.</h4>"
   ]
  },
  {
   "cell_type": "markdown",
   "metadata": {},
   "source": [
    "<h3>As exclamation marks often signal strong opinions, I count for one or more exclamation marks</h3>"
   ]
  },
  {
   "cell_type": "code",
   "execution_count": 146,
   "metadata": {},
   "outputs": [],
   "source": [
    "exclamations = re.findall('\\!{1,}', texts)"
   ]
  },
  {
   "cell_type": "code",
   "execution_count": 147,
   "metadata": {},
   "outputs": [],
   "source": [
    "exclam = string = str(exclamations)"
   ]
  },
  {
   "cell_type": "code",
   "execution_count": 148,
   "metadata": {},
   "outputs": [],
   "source": [
    "string_split = exclam.split()"
   ]
  },
  {
   "cell_type": "code",
   "execution_count": 149,
   "metadata": {},
   "outputs": [],
   "source": [
    "Counters_found = Counter(string_split)"
   ]
  },
  {
   "cell_type": "code",
   "execution_count": 152,
   "metadata": {},
   "outputs": [
    {
     "name": "stdout",
     "output_type": "stream",
     "text": [
      "[(\"'!',\", 9331), (\"'!!',\", 1738), (\"'!!!',\", 1249), (\"'!!!!',\", 260), (\"'!!!!!',\", 84), (\"'!!!!!!',\", 42), (\"'!!!!!!!',\", 21), (\"'!!!!!!!!',\", 15), (\"'!!!!!!!!!',\", 6), (\"'!!!!!!!!!!!!!',\", 5)]\n"
     ]
    }
   ],
   "source": [
    "most_occur = Counters_found.most_common(10)\n",
    "print(most_occur)"
   ]
  },
  {
   "cell_type": "code",
   "execution_count": 154,
   "metadata": {},
   "outputs": [
    {
     "name": "stdout",
     "output_type": "stream",
     "text": [
      "        exclamation  count\n",
      "0              '!',   9331\n",
      "1             '!!',   1738\n",
      "2            '!!!',   1249\n",
      "3           '!!!!',    260\n",
      "4          '!!!!!',     84\n",
      "5         '!!!!!!',     42\n",
      "6        '!!!!!!!',     21\n",
      "7       '!!!!!!!!',     15\n",
      "8      '!!!!!!!!!',      6\n",
      "9  '!!!!!!!!!!!!!',      5\n"
     ]
    }
   ],
   "source": [
    "dfexcl = pd.DataFrame(most_occur, columns=['exclamation','count'])\n",
    "print(dfexcl)"
   ]
  },
  {
   "cell_type": "code",
   "execution_count": 158,
   "metadata": {},
   "outputs": [
    {
     "data": {
      "text/plain": [
       "<AxesSubplot:xlabel='exclamation'>"
      ]
     },
     "execution_count": 158,
     "metadata": {},
     "output_type": "execute_result"
    },
    {
     "data": {
      "image/png": "[encoded data removed]",
      "text/plain": [
       "<Figure size 432x288 with 1 Axes>"
      ]
     },
     "metadata": {},
     "output_type": "display_data"
    }
   ],
   "source": [
    "dfexcl.plot(x ='exclamation', y='count', kind = 'bar')"
   ]
  },
  {
   "cell_type": "markdown",
   "metadata": {},
   "source": [
    "<h4>After the EDA, a sentiment analysis is applied to the data, analysing the polarization and opinionation of the dataset.</h4>"
   ]
  },
  {
   "cell_type": "markdown",
   "metadata": {},
   "source": [
    "  "
   ]
  },
  {
   "cell_type": "markdown",
   "metadata": {},
   "source": [
    "<h3>Sentiment Analysis</h3>"
   ]
  },
  {
   "cell_type": "code",
   "execution_count": 23,
   "metadata": {},
   "outputs": [],
   "source": [
    "import math\n",
    "from math import fsum"
   ]
  },
  {
   "cell_type": "code",
   "execution_count": 24,
   "metadata": {},
   "outputs": [],
   "source": [
    "from textblob import TextBlob\n",
    "from textblob import Word"
   ]
  },
  {
   "cell_type": "code",
   "execution_count": 25,
   "metadata": {},
   "outputs": [],
   "source": [
    "blob = TextBlob(texts)\n",
    "blob_en = TextBlob(texts)"
   ]
  },
  {
   "cell_type": "markdown",
   "metadata": {},
   "source": [
    "<h4>sum of sentiments</h4>"
   ]
  },
  {
   "cell_type": "code",
   "execution_count": 26,
   "metadata": {},
   "outputs": [
    {
     "name": "stdout",
     "output_type": "stream",
     "text": [
      "4156.229921801944\n"
     ]
    }
   ],
   "source": [
    "sent_sum = 0\n",
    "for sentence in blob.sentences:\n",
    "     sent_sum += (sentence.sentiment.polarity)\n",
    "print(sent_sum)"
   ]
  },
  {
   "cell_type": "markdown",
   "metadata": {},
   "source": [
    "<h4>average sentiment per sentence</h4>"
   ]
  },
  {
   "cell_type": "code",
   "execution_count": 27,
   "metadata": {},
   "outputs": [],
   "source": [
    "result_pol = []\n",
    "for sentence in blob.sentences:\n",
    "    result_pol.append(sentence.sentiment.polarity)"
   ]
  },
  {
   "cell_type": "code",
   "execution_count": 28,
   "metadata": {},
   "outputs": [],
   "source": [
    "import statistics"
   ]
  },
  {
   "cell_type": "code",
   "execution_count": 29,
   "metadata": {},
   "outputs": [
    {
     "name": "stdout",
     "output_type": "stream",
     "text": [
      "0.10704208101889931\n"
     ]
    }
   ],
   "source": [
    "mean = statistics.mean(result_pol)\n",
    "print(mean)"
   ]
  },
  {
   "cell_type": "markdown",
   "metadata": {},
   "source": [
    "<h5>As observed, the sentiment analysis suggests, that neither the summed sentiment value for the whole dataset nor the average sentiment value per sentence are negative.</h5>"
   ]
  },
  {
   "cell_type": "markdown",
   "metadata": {},
   "source": [
    " "
   ]
  },
  {
   "cell_type": "markdown",
   "metadata": {},
   "source": [
    "<h3>Degree of opinionation</h3>"
   ]
  },
  {
   "cell_type": "code",
   "execution_count": 30,
   "metadata": {},
   "outputs": [
    {
     "name": "stdout",
     "output_type": "stream",
     "text": [
      "15093.58939035064\n"
     ]
    }
   ],
   "source": [
    "sent_sum = 0\n",
    "for sentence in blob.sentences:\n",
    "     sent_sum += (sentence.sentiment.subjectivity)\n",
    "print(sent_sum)"
   ]
  },
  {
   "cell_type": "code",
   "execution_count": 31,
   "metadata": {},
   "outputs": [],
   "source": [
    "result_sub = []\n",
    "for sentence in blob.sentences:\n",
    "    result_sub.append(sentence.sentiment.subjectivity)"
   ]
  },
  {
   "cell_type": "code",
   "execution_count": 32,
   "metadata": {},
   "outputs": [
    {
     "name": "stdout",
     "output_type": "stream",
     "text": [
      "0.38872950938370726\n"
     ]
    }
   ],
   "source": [
    "mean = statistics.mean(result_sub)\n",
    "print(mean)"
   ]
  },
  {
   "cell_type": "code",
   "execution_count": 33,
   "metadata": {},
   "outputs": [],
   "source": [
    "pol = lambda x: TextBlob(x).sentiment.polarity\n",
    "sub = lambda x: TextBlob(x).sentiment.subjectivity"
   ]
  },
  {
   "cell_type": "code",
   "execution_count": 34,
   "metadata": {},
   "outputs": [],
   "source": [
    "dfhate['polarity'] = dfhate['tweet'].apply(pol)\n",
    "dfhate['subjectivity'] = dfhate['tweet'].apply(sub)"
   ]
  },
  {
   "cell_type": "code",
   "execution_count": 54,
   "metadata": {},
   "outputs": [
    {
     "data": {
      "text/html": [
       "<div>\n",
       "<style scoped>\n",
       "    .dataframe tbody tr th:only-of-type {\n",
       "        vertical-align: middle;\n",
       "    }\n",
       "\n",
       "    .dataframe tbody tr th {\n",
       "        vertical-align: top;\n",
       "    }\n",
       "\n",
       "    .dataframe thead th {\n",
       "        text-align: right;\n",
       "    }\n",
       "</style>\n",
       "<table border=\"1\" class=\"dataframe\">\n",
       "  <thead>\n",
       "    <tr style=\"text-align: right;\">\n",
       "      <th></th>\n",
       "      <th>Unnamed: 0</th>\n",
       "      <th>Toxicity</th>\n",
       "      <th>tweet</th>\n",
       "      <th>polarity</th>\n",
       "      <th>subjectivity</th>\n",
       "    </tr>\n",
       "  </thead>\n",
       "  <tbody>\n",
       "    <tr>\n",
       "      <th>0</th>\n",
       "      <td>0</td>\n",
       "      <td>0</td>\n",
       "      <td>@user when a father is dysfunctional and is s...</td>\n",
       "      <td>-0.500000</td>\n",
       "      <td>1.0</td>\n",
       "    </tr>\n",
       "    <tr>\n",
       "      <th>1</th>\n",
       "      <td>1</td>\n",
       "      <td>0</td>\n",
       "      <td>@user @user thanks for #lyft credit i can't us...</td>\n",
       "      <td>0.200000</td>\n",
       "      <td>0.2</td>\n",
       "    </tr>\n",
       "    <tr>\n",
       "      <th>2</th>\n",
       "      <td>2</td>\n",
       "      <td>0</td>\n",
       "      <td>bihday your majesty</td>\n",
       "      <td>0.000000</td>\n",
       "      <td>0.0</td>\n",
       "    </tr>\n",
       "    <tr>\n",
       "      <th>3</th>\n",
       "      <td>3</td>\n",
       "      <td>0</td>\n",
       "      <td>#model   i love u take with u all the time in ...</td>\n",
       "      <td>0.976562</td>\n",
       "      <td>0.6</td>\n",
       "    </tr>\n",
       "    <tr>\n",
       "      <th>4</th>\n",
       "      <td>4</td>\n",
       "      <td>0</td>\n",
       "      <td>factsguide: society now    #motivation</td>\n",
       "      <td>0.000000</td>\n",
       "      <td>0.0</td>\n",
       "    </tr>\n",
       "  </tbody>\n",
       "</table>\n",
       "</div>"
      ],
      "text/plain": [
       "   Unnamed: 0  Toxicity                                              tweet  \\\n",
       "0           0         0   @user when a father is dysfunctional and is s...   \n",
       "1           1         0  @user @user thanks for #lyft credit i can't us...   \n",
       "2           2         0                               bihday your majesty    \n",
       "3           3         0  #model   i love u take with u all the time in ...   \n",
       "4           4         0            factsguide: society now    #motivation    \n",
       "\n",
       "   polarity  subjectivity  \n",
       "0 -0.500000           1.0  \n",
       "1  0.200000           0.2  \n",
       "2  0.000000           0.0  \n",
       "3  0.976562           0.6  \n",
       "4  0.000000           0.0  "
      ]
     },
     "execution_count": 54,
     "metadata": {},
     "output_type": "execute_result"
    }
   ],
   "source": [
    "dfhate.head()"
   ]
  },
  {
   "cell_type": "code",
   "execution_count": 70,
   "metadata": {},
   "outputs": [],
   "source": [
    "number_of_characters = lambda x: len(x)"
   ]
  },
  {
   "cell_type": "code",
   "execution_count": 71,
   "metadata": {},
   "outputs": [],
   "source": [
    "dfhate['characters'] = dfhate['tweet'].apply(number_of_characters)"
   ]
  },
  {
   "cell_type": "code",
   "execution_count": 57,
   "metadata": {},
   "outputs": [
    {
     "data": {
      "text/html": [
       "<div>\n",
       "<style scoped>\n",
       "    .dataframe tbody tr th:only-of-type {\n",
       "        vertical-align: middle;\n",
       "    }\n",
       "\n",
       "    .dataframe tbody tr th {\n",
       "        vertical-align: top;\n",
       "    }\n",
       "\n",
       "    .dataframe thead th {\n",
       "        text-align: right;\n",
       "    }\n",
       "</style>\n",
       "<table border=\"1\" class=\"dataframe\">\n",
       "  <thead>\n",
       "    <tr style=\"text-align: right;\">\n",
       "      <th></th>\n",
       "      <th>Unnamed: 0</th>\n",
       "      <th>Toxicity</th>\n",
       "      <th>tweet</th>\n",
       "      <th>polarity</th>\n",
       "      <th>subjectivity</th>\n",
       "      <th>characters</th>\n",
       "    </tr>\n",
       "  </thead>\n",
       "  <tbody>\n",
       "    <tr>\n",
       "      <th>0</th>\n",
       "      <td>0</td>\n",
       "      <td>0</td>\n",
       "      <td>@user when a father is dysfunctional and is s...</td>\n",
       "      <td>-0.500000</td>\n",
       "      <td>1.0</td>\n",
       "      <td>103</td>\n",
       "    </tr>\n",
       "    <tr>\n",
       "      <th>1</th>\n",
       "      <td>1</td>\n",
       "      <td>0</td>\n",
       "      <td>@user @user thanks for #lyft credit i can't us...</td>\n",
       "      <td>0.200000</td>\n",
       "      <td>0.2</td>\n",
       "      <td>123</td>\n",
       "    </tr>\n",
       "    <tr>\n",
       "      <th>2</th>\n",
       "      <td>2</td>\n",
       "      <td>0</td>\n",
       "      <td>bihday your majesty</td>\n",
       "      <td>0.000000</td>\n",
       "      <td>0.0</td>\n",
       "      <td>22</td>\n",
       "    </tr>\n",
       "    <tr>\n",
       "      <th>3</th>\n",
       "      <td>3</td>\n",
       "      <td>0</td>\n",
       "      <td>#model   i love u take with u all the time in ...</td>\n",
       "      <td>0.976562</td>\n",
       "      <td>0.6</td>\n",
       "      <td>87</td>\n",
       "    </tr>\n",
       "    <tr>\n",
       "      <th>4</th>\n",
       "      <td>4</td>\n",
       "      <td>0</td>\n",
       "      <td>factsguide: society now    #motivation</td>\n",
       "      <td>0.000000</td>\n",
       "      <td>0.0</td>\n",
       "      <td>40</td>\n",
       "    </tr>\n",
       "  </tbody>\n",
       "</table>\n",
       "</div>"
      ],
      "text/plain": [
       "   Unnamed: 0  Toxicity                                              tweet  \\\n",
       "0           0         0   @user when a father is dysfunctional and is s...   \n",
       "1           1         0  @user @user thanks for #lyft credit i can't us...   \n",
       "2           2         0                               bihday your majesty    \n",
       "3           3         0  #model   i love u take with u all the time in ...   \n",
       "4           4         0            factsguide: society now    #motivation    \n",
       "\n",
       "   polarity  subjectivity  characters  \n",
       "0 -0.500000           1.0         103  \n",
       "1  0.200000           0.2         123  \n",
       "2  0.000000           0.0          22  \n",
       "3  0.976562           0.6          87  \n",
       "4  0.000000           0.0          40  "
      ]
     },
     "execution_count": 57,
     "metadata": {},
     "output_type": "execute_result"
    }
   ],
   "source": [
    "dfhate.head()"
   ]
  },
  {
   "cell_type": "code",
   "execution_count": 58,
   "metadata": {},
   "outputs": [
    {
     "data": {
      "text/plain": [
       "86.04379240461715"
      ]
     },
     "execution_count": 58,
     "metadata": {},
     "output_type": "execute_result"
    }
   ],
   "source": [
    "statistics.mean(dfhate['characters'])"
   ]
  },
  {
   "cell_type": "code",
   "execution_count": 59,
   "metadata": {},
   "outputs": [
    {
     "data": {
      "text/plain": [
       "<AxesSubplot:xlabel='characters'>"
      ]
     },
     "execution_count": 59,
     "metadata": {},
     "output_type": "execute_result"
    },
    {
     "data": {
      "image/png": "[encoded data removed]",
      "text/plain": [
       "<Figure size 432x288 with 1 Axes>"
      ]
     },
     "metadata": {
      "needs_background": "light"
     },
     "output_type": "display_data"
    }
   ],
   "source": [
    "sns.stripplot(x=dfhate['characters'])"
   ]
  },
  {
   "cell_type": "code",
   "execution_count": 60,
   "metadata": {},
   "outputs": [
    {
     "data": {
      "text/plain": [
       "<AxesSubplot:xlabel='polarity'>"
      ]
     },
     "execution_count": 60,
     "metadata": {},
     "output_type": "execute_result"
    },
    {
     "data": {
      "image/png": "[encoded data removed]",
      "text/plain": [
       "<Figure size 432x288 with 1 Axes>"
      ]
     },
     "metadata": {
      "needs_background": "light"
     },
     "output_type": "display_data"
    }
   ],
   "source": [
    "sns.stripplot(x=dfhate['polarity'])"
   ]
  },
  {
   "cell_type": "code",
   "execution_count": 61,
   "metadata": {},
   "outputs": [
    {
     "data": {
      "text/plain": [
       "<AxesSubplot:xlabel='subjectivity'>"
      ]
     },
     "execution_count": 61,
     "metadata": {},
     "output_type": "execute_result"
    },
    {
     "data": {
      "image/png": "[encoded data removed]",
      "text/plain": [
       "<Figure size 432x288 with 1 Axes>"
      ]
     },
     "metadata": {
      "needs_background": "light"
     },
     "output_type": "display_data"
    }
   ],
   "source": [
    "sns.stripplot(x=dfhate['subjectivity'])"
   ]
  },
  {
   "cell_type": "code",
   "execution_count": 62,
   "metadata": {},
   "outputs": [
    {
     "data": {
      "image/png": "[encoded data removed]",
      "text/plain": [
       "<Figure size 432x288 with 1 Axes>"
      ]
     },
     "metadata": {
      "needs_background": "light"
     },
     "output_type": "display_data"
    }
   ],
   "source": [
    "dfhate.plot(x='characters', y='polarity', style='o')  \n",
    "plt.title('Characters and Polarity')  \n",
    "plt.xlabel('subjectivity')  \n",
    "plt.ylabel('polarity')  \n",
    "plt.show()"
   ]
  },
  {
   "cell_type": "code",
   "execution_count": 63,
   "metadata": {},
   "outputs": [
    {
     "data": {
      "image/png": "[encoded data removed]",
      "text/plain": [
       "<Figure size 432x288 with 1 Axes>"
      ]
     },
     "metadata": {
      "needs_background": "light"
     },
     "output_type": "display_data"
    }
   ],
   "source": [
    "dfhate.plot(x='characters', y='subjectivity', style='o')  \n",
    "plt.title('Characters and Subjectivity')  \n",
    "plt.xlabel('subjectivity')  \n",
    "plt.ylabel('polarity')  \n",
    "plt.show()"
   ]
  },
  {
   "cell_type": "code",
   "execution_count": 64,
   "metadata": {},
   "outputs": [
    {
     "data": {
      "image/png": "[encoded data removed]",
      "text/plain": [
       "<Figure size 432x288 with 1 Axes>"
      ]
     },
     "metadata": {
      "needs_background": "light"
     },
     "output_type": "display_data"
    }
   ],
   "source": [
    "dfhate.plot(x='subjectivity', y='polarity', style='o')  \n",
    "plt.title('Subjectivity and Polarity')  \n",
    "plt.xlabel('subjectivity')  \n",
    "plt.ylabel('polarity')  \n",
    "plt.show()"
   ]
  },
  {
   "cell_type": "markdown",
   "metadata": {},
   "source": [
    " "
   ]
  },
  {
   "cell_type": "markdown",
   "metadata": {},
   "source": [
    "<h3>Correlations between word length, polarity and subjectivity, using the pearson correlation coefficient. </h3>"
   ]
  },
  {
   "cell_type": "code",
   "execution_count": 90,
   "metadata": {},
   "outputs": [],
   "source": [
    "from scipy.stats.stats import pearsonr"
   ]
  },
  {
   "cell_type": "code",
   "execution_count": 66,
   "metadata": {},
   "outputs": [
    {
     "data": {
      "text/plain": [
       "(0.006694615573038035, 0.11077461560890205)"
      ]
     },
     "execution_count": 66,
     "metadata": {},
     "output_type": "execute_result"
    }
   ],
   "source": [
    "pearsonr(dfhate['characters'], dfhate['polarity'])"
   ]
  },
  {
   "cell_type": "markdown",
   "metadata": {},
   "source": [
    "<p>There is no statistically significant correlation between the number of characters and the polarity of the tweet.</p>"
   ]
  },
  {
   "cell_type": "code",
   "execution_count": 67,
   "metadata": {},
   "outputs": [
    {
     "data": {
      "text/plain": [
       "(0.164525005732572, 0.0)"
      ]
     },
     "execution_count": 67,
     "metadata": {},
     "output_type": "execute_result"
    }
   ],
   "source": [
    "pearsonr(dfhate['characters'], dfhate['subjectivity'])"
   ]
  },
  {
   "cell_type": "markdown",
   "metadata": {},
   "source": [
    "<p>There is a weak (0.1645) but significant (p < .05) positive correlation between the number of characters and the subjectivity of a tweet.</p>"
   ]
  },
  {
   "cell_type": "code",
   "execution_count": 68,
   "metadata": {},
   "outputs": [
    {
     "data": {
      "text/plain": [
       "(0.1698102753273882, 0.0)"
      ]
     },
     "execution_count": 68,
     "metadata": {},
     "output_type": "execute_result"
    }
   ],
   "source": [
    "pearsonr(dfhate['subjectivity'], dfhate['polarity'])"
   ]
  },
  {
   "cell_type": "markdown",
   "metadata": {},
   "source": [
    "<p>There is a weak (0.1698) but significant (p < .05) positive correlation between the subjectivtiy and the polarity of a tweet.</p>"
   ]
  },
  {
   "cell_type": "markdown",
   "metadata": {},
   "source": [
    " "
   ]
  },
  {
   "cell_type": "markdown",
   "metadata": {},
   "source": [
    "<h3>Distribution of Polarity and Subjectivity in the texts</h3>"
   ]
  },
  {
   "cell_type": "code",
   "execution_count": 36,
   "metadata": {},
   "outputs": [
    {
     "data": {
      "text/plain": [
       "<BarContainer object of 3 artists>"
      ]
     },
     "execution_count": 36,
     "metadata": {},
     "output_type": "execute_result"
    },
    {
     "data": {
      "image/png": "[encoded data removed]",
      "text/plain": [
       "<Figure size 432x288 with 1 Axes>"
      ]
     },
     "metadata": {
      "needs_background": "light"
     },
     "output_type": "display_data"
    }
   ],
   "source": [
    "def sentiment(x):\n",
    "    if x<0:\n",
    "        return 'neg'\n",
    "    elif x==0:\n",
    "        return 'neu'\n",
    "    else:\n",
    "        return 'pos'\n",
    "    \n",
    "dfhate['polarity']=dfhate['polarity'].\\\n",
    "   map(lambda x: sentiment(x))\n",
    "\n",
    "plt.bar(dfhate.polarity.value_counts().index,\n",
    "        dfhate.polarity.value_counts())"
   ]
  },
  {
   "cell_type": "code",
   "execution_count": 52,
   "metadata": {},
   "outputs": [
    {
     "data": {
      "text/plain": [
       "<AxesSubplot:>"
      ]
     },
     "execution_count": 52,
     "metadata": {},
     "output_type": "execute_result"
    },
    {
     "data": {
      "image/png": "[encoded data removed]",
      "text/plain": [
       "<Figure size 432x288 with 1 Axes>"
      ]
     },
     "metadata": {
      "needs_background": "light"
     },
     "output_type": "display_data"
    }
   ],
   "source": [
    "def polarity(text):\n",
    "    return TextBlob(text).sentiment.polarity\n",
    "\n",
    "dfhate['polarity_score']=dfhate['tweet'].\\\n",
    "   apply(lambda x : polarity(x))\n",
    "dfhate['polarity_score'].hist()"
   ]
  },
  {
   "cell_type": "code",
   "execution_count": 76,
   "metadata": {},
   "outputs": [
    {
     "data": {
      "text/plain": [
       "<AxesSubplot:>"
      ]
     },
     "execution_count": 76,
     "metadata": {},
     "output_type": "execute_result"
    },
    {
     "data": {
      "image/png": "[encoded data removed]",
      "text/plain": [
       "<Figure size 432x288 with 1 Axes>"
      ]
     },
     "metadata": {
      "needs_background": "light"
     },
     "output_type": "display_data"
    }
   ],
   "source": [
    "dfhate['subjectivity'].hist()"
   ]
  },
  {
   "cell_type": "code",
   "execution_count": 83,
   "metadata": {},
   "outputs": [
    {
     "name": "stdout",
     "output_type": "stream",
     "text": [
      "<class 'pandas.core.frame.DataFrame'>\n",
      "Int64Index: 56745 entries, 0 to 56744\n",
      "Data columns (total 7 columns):\n",
      " #   Column          Non-Null Count  Dtype  \n",
      "---  ------          --------------  -----  \n",
      " 0   Unnamed: 0      56745 non-null  int64  \n",
      " 1   Toxicity        56745 non-null  int64  \n",
      " 2   tweet           56745 non-null  object \n",
      " 3   polarity        56745 non-null  object \n",
      " 4   subjectivity    56745 non-null  float64\n",
      " 5   polarity_score  56745 non-null  float64\n",
      " 6   characters      56745 non-null  int64  \n",
      "dtypes: float64(2), int64(3), object(2)\n",
      "memory usage: 3.5+ MB\n"
     ]
    }
   ],
   "source": [
    "dfhate.info()"
   ]
  },
  {
   "cell_type": "code",
   "execution_count": 84,
   "metadata": {},
   "outputs": [
    {
     "data": {
      "text/html": [
       "<div>\n",
       "<style scoped>\n",
       "    .dataframe tbody tr th:only-of-type {\n",
       "        vertical-align: middle;\n",
       "    }\n",
       "\n",
       "    .dataframe tbody tr th {\n",
       "        vertical-align: top;\n",
       "    }\n",
       "\n",
       "    .dataframe thead th {\n",
       "        text-align: right;\n",
       "    }\n",
       "</style>\n",
       "<table border=\"1\" class=\"dataframe\">\n",
       "  <thead>\n",
       "    <tr style=\"text-align: right;\">\n",
       "      <th></th>\n",
       "      <th>Unnamed: 0</th>\n",
       "      <th>Toxicity</th>\n",
       "      <th>tweet</th>\n",
       "      <th>polarity</th>\n",
       "      <th>subjectivity</th>\n",
       "      <th>polarity_score</th>\n",
       "      <th>characters</th>\n",
       "    </tr>\n",
       "  </thead>\n",
       "  <tbody>\n",
       "    <tr>\n",
       "      <th>0</th>\n",
       "      <td>0</td>\n",
       "      <td>0</td>\n",
       "      <td>@user when a father is dysfunctional and is s...</td>\n",
       "      <td>neg</td>\n",
       "      <td>1.0</td>\n",
       "      <td>-0.500000</td>\n",
       "      <td>103</td>\n",
       "    </tr>\n",
       "    <tr>\n",
       "      <th>1</th>\n",
       "      <td>1</td>\n",
       "      <td>0</td>\n",
       "      <td>@user @user thanks for #lyft credit i can't us...</td>\n",
       "      <td>pos</td>\n",
       "      <td>0.2</td>\n",
       "      <td>0.200000</td>\n",
       "      <td>123</td>\n",
       "    </tr>\n",
       "    <tr>\n",
       "      <th>2</th>\n",
       "      <td>2</td>\n",
       "      <td>0</td>\n",
       "      <td>bihday your majesty</td>\n",
       "      <td>neu</td>\n",
       "      <td>0.0</td>\n",
       "      <td>0.000000</td>\n",
       "      <td>22</td>\n",
       "    </tr>\n",
       "    <tr>\n",
       "      <th>3</th>\n",
       "      <td>3</td>\n",
       "      <td>0</td>\n",
       "      <td>#model   i love u take with u all the time in ...</td>\n",
       "      <td>pos</td>\n",
       "      <td>0.6</td>\n",
       "      <td>0.976562</td>\n",
       "      <td>87</td>\n",
       "    </tr>\n",
       "    <tr>\n",
       "      <th>4</th>\n",
       "      <td>4</td>\n",
       "      <td>0</td>\n",
       "      <td>factsguide: society now    #motivation</td>\n",
       "      <td>neu</td>\n",
       "      <td>0.0</td>\n",
       "      <td>0.000000</td>\n",
       "      <td>40</td>\n",
       "    </tr>\n",
       "  </tbody>\n",
       "</table>\n",
       "</div>"
      ],
      "text/plain": [
       "   Unnamed: 0  Toxicity                                              tweet  \\\n",
       "0           0         0   @user when a father is dysfunctional and is s...   \n",
       "1           1         0  @user @user thanks for #lyft credit i can't us...   \n",
       "2           2         0                               bihday your majesty    \n",
       "3           3         0  #model   i love u take with u all the time in ...   \n",
       "4           4         0            factsguide: society now    #motivation    \n",
       "\n",
       "  polarity  subjectivity  polarity_score  characters  \n",
       "0      neg           1.0       -0.500000         103  \n",
       "1      pos           0.2        0.200000         123  \n",
       "2      neu           0.0        0.000000          22  \n",
       "3      pos           0.6        0.976562          87  \n",
       "4      neu           0.0        0.000000          40  "
      ]
     },
     "execution_count": 84,
     "metadata": {},
     "output_type": "execute_result"
    }
   ],
   "source": [
    "dfhate.head()"
   ]
  },
  {
   "cell_type": "code",
   "execution_count": 62,
   "metadata": {},
   "outputs": [
    {
     "data": {
      "text/plain": [
       "<AxesSubplot:>"
      ]
     },
     "execution_count": 62,
     "metadata": {},
     "output_type": "execute_result"
    },
    {
     "data": {
      "image/png": "[encoded data removed]",
      "text/plain": [
       "<Figure size 432x288 with 1 Axes>"
      ]
     },
     "metadata": {
      "needs_background": "light"
     },
     "output_type": "display_data"
    }
   ],
   "source": [
    "(dfhate['subjectivity']).plot.box(x = dfhate['tweet'], y = dfhate['subjectivity'])"
   ]
  },
  {
   "cell_type": "code",
   "execution_count": 58,
   "metadata": {},
   "outputs": [
    {
     "data": {
      "text/plain": [
       "<AxesSubplot:>"
      ]
     },
     "execution_count": 58,
     "metadata": {},
     "output_type": "execute_result"
    },
    {
     "data": {
      "image/png": "[encoded data removed]",
      "text/plain": [
       "<Figure size 432x288 with 1 Axes>"
      ]
     },
     "metadata": {
      "needs_background": "light"
     },
     "output_type": "display_data"
    }
   ],
   "source": [
    "dfhate['polarity_score'].plot.box(x = dfhate['tweet'], y = dfhate['polarity_score'])"
   ]
  },
  {
   "cell_type": "code",
   "execution_count": 82,
   "metadata": {},
   "outputs": [
    {
     "data": {
      "text/plain": [
       "<AxesSubplot:ylabel='Density'>"
      ]
     },
     "execution_count": 82,
     "metadata": {},
     "output_type": "execute_result"
    },
    {
     "data": {
      "image/png": "[encoded data removed]",
      "text/plain": [
       "<Figure size 432x288 with 1 Axes>"
      ]
     },
     "metadata": {
      "needs_background": "light"
     },
     "output_type": "display_data"
    }
   ],
   "source": [
    "dfhate['polarity_score'].plot.kde(x = dfhate['tweet'], y = dfhate['polarity_score'])"
   ]
  },
  {
   "cell_type": "code",
   "execution_count": 85,
   "metadata": {},
   "outputs": [
    {
     "data": {
      "text/plain": [
       "<AxesSubplot:ylabel='Density'>"
      ]
     },
     "execution_count": 85,
     "metadata": {},
     "output_type": "execute_result"
    },
    {
     "data": {
      "image/png": "[encoded data removed]",
      "text/plain": [
       "<Figure size 432x288 with 1 Axes>"
      ]
     },
     "metadata": {
      "needs_background": "light"
     },
     "output_type": "display_data"
    }
   ],
   "source": [
    "dfhate['subjectivity'].plot.kde(x = dfhate['tweet'], y = dfhate['subjectivity'])"
   ]
  },
  {
   "cell_type": "markdown",
   "metadata": {},
   "source": [
    " "
   ]
  },
  {
   "cell_type": "markdown",
   "metadata": {},
   "source": [
    " "
   ]
  },
  {
   "cell_type": "markdown",
   "metadata": {},
   "source": [
    "<h3>Topic Modelling</h3>"
   ]
  },
  {
   "cell_type": "markdown",
   "metadata": {},
   "source": [
    "<h4>Two different, but similar approaches are used to perform the topic modelling.</h4>"
   ]
  },
  {
   "cell_type": "code",
   "execution_count": 178,
   "metadata": {},
   "outputs": [],
   "source": [
    "from nltk.corpus import stopwords\n",
    "from nltk.stem.wordnet import WordNetLemmatizer\n",
    "import string\n",
    "stop = set(stopwords.words('english'))\n",
    "exclude = set(string.punctuation)\n",
    "lemma = WordNetLemmatizer()\n",
    "def clean(doc):\n",
    "    stop_free = \" \".join([i for i in doc.lower().split() if i not in stop])\n",
    "    punc_free = ''.join(ch for ch in stop_free if ch not in exclude)\n",
    "    normalized = \" \".join(lemma.lemmatize(word) for word in punc_free.split())\n",
    "    return normalized\n",
    "\n",
    "doc_clean = [clean(doc).split() for doc in list_words]"
   ]
  },
  {
   "cell_type": "code",
   "execution_count": 179,
   "metadata": {},
   "outputs": [],
   "source": [
    "import gensim\n",
    "from gensim import corpora"
   ]
  },
  {
   "cell_type": "code",
   "execution_count": 180,
   "metadata": {},
   "outputs": [],
   "source": [
    "dictionary = corpora.Dictionary(doc_clean)"
   ]
  },
  {
   "cell_type": "code",
   "execution_count": 181,
   "metadata": {},
   "outputs": [],
   "source": [
    "doc_term_matrix = [dictionary.doc2bow(doc) for doc in doc_clean]"
   ]
  },
  {
   "cell_type": "code",
   "execution_count": 182,
   "metadata": {},
   "outputs": [],
   "source": [
    "Lda = gensim.models.ldamodel.LdaModel"
   ]
  },
  {
   "cell_type": "code",
   "execution_count": 183,
   "metadata": {},
   "outputs": [],
   "source": [
    "ldamodel = Lda(doc_term_matrix, num_topics=3, id2word = dictionary, passes=5)"
   ]
  },
  {
   "cell_type": "code",
   "execution_count": 185,
   "metadata": {},
   "outputs": [
    {
     "name": "stdout",
     "output_type": "stream",
     "text": [
      "[(0, '0.039*\"like\" + 0.021*\"get\" + 0.019*\"u\" + 0.012*\"know\" + 0.011*\"yo\"'), (1, '0.099*\"rt\" + 0.062*\"hoe\" + 0.017*\"trash\" + 0.011*\"amp\" + 0.008*\"go\"'), (2, '0.143*\"bitch\" + 0.025*\"nigga\" + 0.024*\"pussy\" + 0.021*\"im\" + 0.018*\"as\"')]\n"
     ]
    }
   ],
   "source": [
    "print(ldamodel.print_topics(num_topics=3, num_words=5))"
   ]
  },
  {
   "cell_type": "code",
   "execution_count": 198,
   "metadata": {},
   "outputs": [],
   "source": [
    "def preprocess_tweets(df):\n",
    "    corpus = []\n",
    "    stem = nltk.stem.PorterStemmer()\n",
    "    lem = nltk.stem.WordNetLemmatizer()\n",
    "    for word in list_words:\n",
    "        words=[w for w in nltk.tokenize.word_tokenize(word) if (w not in stop)]\n",
    "        words=[lem.lemmatize(w) for w in words if len(w)>2]\n",
    "        corpus.append(words)\n",
    "    return corpus\n",
    "\n",
    "corpus = preprocess_tweets(tweet)"
   ]
  },
  {
   "cell_type": "code",
   "execution_count": 199,
   "metadata": {},
   "outputs": [],
   "source": [
    "dic = gensim.corpora.Dictionary(corpus)\n",
    "bow_corpus = [dic.doc2bow(doc) for doc in corpus]"
   ]
  },
  {
   "cell_type": "code",
   "execution_count": 201,
   "metadata": {},
   "outputs": [
    {
     "data": {
      "text/plain": [
       "[(0,\n",
       "  '0.185*\"bitch\" + 0.055*\"http\" + 0.026*\"got\" + 0.016*\"8221\" + 0.013*\"girl\" + 0.009*\"good\" + 0.008*\"y\\'all\" + 0.008*\"never\" + 0.007*\"people\" + 0.006*\"said\"'),\n",
       " (1,\n",
       "  '0.094*\"hoe\" + 0.030*\"as\" + 0.020*\"amp\" + 0.019*\"lol\" + 0.015*\"love\" + 0.013*\"fucking\" + 0.013*\"make\" + 0.012*\"need\" + 0.012*\"look\" + 0.011*\"man\"'),\n",
       " (2,\n",
       "  '0.059*\"like\" + 0.027*\"fuck\" + 0.018*\"know\" + 0.015*\"one\" + 0.015*\"want\" + 0.013*\"say\" + 0.012*\"bad\" + 0.011*\"day\" + 0.011*\"think\" + 0.010*\"really\"'),\n",
       " (3,\n",
       "  '0.044*\"128514\" + 0.032*\"nigga\" + 0.031*\"pussy\" + 0.025*\"8230\" + 0.023*\"n\\'t\" + 0.023*\"get\" + 0.019*\"shit\" + 0.018*\"trash\" + 0.016*\"8220\" + 0.009*\"bird\"')]"
      ]
     },
     "execution_count": 201,
     "metadata": {},
     "output_type": "execute_result"
    }
   ],
   "source": [
    "lda_model = gensim.models.LdaMulticore(bow_corpus, num_topics = 4, id2word = dic, passes = 10, workers = 2,  per_word_topics=True)\n",
    "lda_model.show_topics()"
   ]
  },
  {
   "cell_type": "markdown",
   "metadata": {},
   "source": [
    "<h4>As apprehended, the dataset is too diverse in topics while using similar offensive language, which makes it difficult to extract meaningful topics.</h4>"
   ]
  }
 ],
 "metadata": {
  "kernelspec": {
   "display_name": "Python 3",
   "language": "python",
   "name": "python3"
  },
  "language_info": {
   "codemirror_mode": {
    "name": "ipython",
    "version": 3
   },
   "file_extension": ".py",
   "mimetype": "text/x-python",
   "name": "python",
   "nbconvert_exporter": "python",
   "pygments_lexer": "ipython3",
   "version": "3.8.5"
  }
 },
 "nbformat": 4,
 "nbformat_minor": 4
}
